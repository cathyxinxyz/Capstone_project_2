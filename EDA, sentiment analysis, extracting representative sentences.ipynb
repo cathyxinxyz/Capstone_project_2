{
 "cells": [
  {
   "cell_type": "markdown",
   "metadata": {},
   "source": [
    "# Goal and desired outcomes"
   ]
  },
  {
   "cell_type": "markdown",
   "metadata": {},
   "source": [
    "Given the rich information from Amazon review dataset and product metadata, I focus on two questions: \n",
    "\n",
    " - First, when reviewers like a certain product or dislikes a certain product, what do they like/dislike about? \n",
    "\n",
    " - Second, what are the reviews that are most relevant to the product and thus helpful for potential users and manufacturers to read. \n",
    "\n",
    "To answer the two questions, I will need to do two types of analysis: firstly, I need to find all the positive comments (sentences) and negative comments (sentences) and discover the relevant product features or perspectives mentioned in these comments. secondly, I need to compute the relevance of review content to the product information. "
   ]
  },
  {
   "cell_type": "markdown",
   "metadata": {},
   "source": [
    "The analysis follows three steps:\n",
    "    \n",
    "- Exploratory data analysis; \n",
    "- Sentiment analysis to classify reviewers' opinions towards a certain product: positive, neutral or negative; \n",
    "- Extracting meaningful phrases from reviewer's comments and get a representative sentence around the phrase\n",
    "- Calculate the similarity of each review text and the product metadata description\n",
    "\n",
    "To make my analysis more understandable and efficient, I will use the review and metadata of sleep aid medine as an example. The analysis can be automated and adapted to other products as well."
   ]
  },
  {
   "cell_type": "code",
   "execution_count": 119,
   "metadata": {},
   "outputs": [],
   "source": [
    "%load_ext autoreload\n",
    "%autoreload 2"
   ]
  },
  {
   "cell_type": "markdown",
   "metadata": {},
   "source": [
    "## Exploratory data analysis"
   ]
  },
  {
   "cell_type": "code",
   "execution_count": 2,
   "metadata": {},
   "outputs": [],
   "source": [
    "import pandas as pd\n",
    "import numpy as np"
   ]
  },
  {
   "cell_type": "code",
   "execution_count": 3,
   "metadata": {},
   "outputs": [],
   "source": [
    "# read in the sleep aid products review data\n",
    "df=pd.read_csv('sleep_review.csv')"
   ]
  },
  {
   "cell_type": "markdown",
   "metadata": {},
   "source": [
    "let's take a look at the dataset"
   ]
  },
  {
   "cell_type": "code",
   "execution_count": 4,
   "metadata": {},
   "outputs": [
    {
     "name": "stdout",
     "output_type": "stream",
     "text": [
      "   Unnamed: 0      reviewerID        asin helpful  \\\n",
      "0           0  A3AUGQNG5EYQ1Y  B000053136  [0, 0]   \n",
      "1           1  A2WI4GOCOOF3PK  B000053136  [0, 1]   \n",
      "2           2  A3I6PVPLOWPPS2  B000053136  [1, 1]   \n",
      "3           3  A31TSQ6L9VS073  B000053136  [0, 0]   \n",
      "4           4   AF30W6VYOTF7H  B000053136  [1, 1]   \n",
      "\n",
      "                                          reviewText  overall  \\\n",
      "0  Ok... so I got this because a friend recommend...      1.0   \n",
      "1  Good product great taste and really works, arr...      5.0   \n",
      "2  this stuff is really helpful for a toddler who...      5.0   \n",
      "3  We bought this for our kidos on the advice fro...      4.0   \n",
      "4  I have a 8 yr. old with \"Down Syndrome\". He is...      4.0   \n",
      "\n",
      "                                             summary  \\\n",
      "0  Can't decide if I should dump the rest or just...   \n",
      "1                                   Melatonin luquid   \n",
      "2           strong smell, mixes well into dark juice   \n",
      "3                                        Works great   \n",
      "4                               It really does help!   \n",
      "\n",
      "                                         description  \\\n",
      "0  Helps Establish Normal Sleep Patterns.* Dietar...   \n",
      "1  Helps Establish Normal Sleep Patterns.* Dietar...   \n",
      "2  Helps Establish Normal Sleep Patterns.* Dietar...   \n",
      "3  Helps Establish Normal Sleep Patterns.* Dietar...   \n",
      "4  Helps Establish Normal Sleep Patterns.* Dietar...   \n",
      "\n",
      "                                    title  \n",
      "0  Natrol Liquid Melatonin, 2 Fluid Ounce  \n",
      "1  Natrol Liquid Melatonin, 2 Fluid Ounce  \n",
      "2  Natrol Liquid Melatonin, 2 Fluid Ounce  \n",
      "3  Natrol Liquid Melatonin, 2 Fluid Ounce  \n",
      "4  Natrol Liquid Melatonin, 2 Fluid Ounce  \n"
     ]
    }
   ],
   "source": [
    "print (df.head(5))"
   ]
  },
  {
   "cell_type": "markdown",
   "metadata": {},
   "source": [
    "As shown in the data cleaning section (link:), the dataset is a integration of the reviews' relevant information and products' metadata: \n",
    "\n",
    "- Columns including \"reviewerID\", \"reviewText\", \"summary\" and \"overall\" are relevant to the reviews; \n",
    "- columns such as \"asin\", \"description\" are originally from metadata database or derived variables from metadata. "
   ]
  },
  {
   "cell_type": "markdown",
   "metadata": {},
   "source": [
    "The sentiment analysis will use three columns: \"overall\", \"reviewText\" and \"summary\".  \"Overall\" is the rating, \"reviewText\" is the review text that a reviewer wrote about a product, and \"summary\" is a short phrase of sentence that summarize the reviewer's opinion.\n",
    "\n",
    "I will start EDA with exploring these three columns. "
   ]
  },
  {
   "cell_type": "code",
   "execution_count": 5,
   "metadata": {},
   "outputs": [],
   "source": [
    "import seaborn as sns\n",
    "import matplotlib.pyplot as plt"
   ]
  },
  {
   "cell_type": "code",
   "execution_count": 6,
   "metadata": {},
   "outputs": [
    {
     "name": "stdout",
     "output_type": "stream",
     "text": [
      "rating and corresponding number:\n",
      "\n",
      "5.0    2301\n",
      "4.0     786\n",
      "3.0     526\n",
      "1.0     335\n",
      "2.0     318\n",
      "Name: overall, dtype: int64\n",
      "\n",
      "Histogram of rating:\n",
      "\n"
     ]
    },
    {
     "data": {
      "image/png": "[encoded data removed]",
      "text/plain": [
       "<matplotlib.figure.Figure at 0x1e8337d8e80>"
      ]
     },
     "metadata": {},
     "output_type": "display_data"
    }
   ],
   "source": [
    "# distribution of overall rating\n",
    "print ('rating and corresponding number:\\n')\n",
    "print (df.overall.value_counts())\n",
    "print ('\\nHistogram of rating:\\n')\n",
    "sns.countplot(\"overall\", data=df)\n",
    "plt.xlabel('overall rating')\n",
    "plt.ylabel('number')\n",
    "plt.show()"
   ]
  },
  {
   "cell_type": "markdown",
   "metadata": {},
   "source": [
    "It shows that the overall rating is a integer between 1 and 5. Also, the number of review increases with rating, where majority of reviews have a rating of 5. "
   ]
  },
  {
   "cell_type": "markdown",
   "metadata": {},
   "source": [
    "The sentiment analysis will be done on each sentence rather a paragraph of review text as a whole, therefore, next I will examine the total number of sentences under each rating. \n",
    "\n",
    "First I calculate the number of sentences of each review text"
   ]
  },
  {
   "cell_type": "code",
   "execution_count": 7,
   "metadata": {},
   "outputs": [],
   "source": [
    "from nltk.tokenize import sent_tokenize, word_tokenize\n",
    "\n",
    "df[\"sent_number\"]=df.reviewText.apply(lambda x:len(sent_tokenize(str(x))))"
   ]
  },
  {
   "cell_type": "code",
   "execution_count": 8,
   "metadata": {},
   "outputs": [
    {
     "data": {
      "image/png": "[encoded data removed]",
      "text/plain": [
       "<matplotlib.figure.Figure at 0x1e8388cb710>"
      ]
     },
     "metadata": {},
     "output_type": "display_data"
    }
   ],
   "source": [
    "sns.barplot(y=\"sent_number\", x='overall', data=df)\n",
    "plt.ylabel('average number of sentences per review')\n",
    "plt.xlabel('rating')\n",
    "plt.show()"
   ]
  },
  {
   "cell_type": "markdown",
   "metadata": {},
   "source": [
    "It shows that the average number of sentences per review is slightly high for intermediate rating, e.g. 3., but overall is quite similar among the five level of ratings: mostly around 5-6. "
   ]
  },
  {
   "cell_type": "code",
   "execution_count": 9,
   "metadata": {},
   "outputs": [
    {
     "data": {
      "image/png": "[encoded data removed]",
      "text/plain": [
       "<matplotlib.figure.Figure at 0x1e8388d9160>"
      ]
     },
     "metadata": {},
     "output_type": "display_data"
    }
   ],
   "source": [
    "sns.barplot(x=[1,2,3,4,5], y=df.groupby('overall').agg({'sent_number':'sum'}).sent_number.values)\n",
    "plt.ylabel('total number of sentences')\n",
    "plt.xlabel('rating')\n",
    "plt.show()"
   ]
  },
  {
   "cell_type": "markdown",
   "metadata": {},
   "source": [
    "Therefore, the total number of sentences for each rating still largely driven by the number of reviews as shown earlier and increases as rating increases. This suggests that sentiment analysis may have a unbalanced class with more senteces from positive reviews. \n",
    "\n",
    "Now let's take a look at the summary. "
   ]
  },
  {
   "cell_type": "code",
   "execution_count": 10,
   "metadata": {},
   "outputs": [
    {
     "data": {
      "image/png": "[encoded data removed]",
      "text/plain": [
       "<matplotlib.figure.Figure at 0x1e8389276d8>"
      ]
     },
     "metadata": {},
     "output_type": "display_data"
    }
   ],
   "source": [
    "df[\"summary_length\"]=df.summary.apply(lambda x:len(sent_tokenize(str(x))))\n",
    "\n",
    "sns.barplot(y=\"summary_length\", x='overall', data=df)\n",
    "plt.ylabel('average number of sentences per summary')\n",
    "plt.xlabel('rating')\n",
    "plt.show()"
   ]
  },
  {
   "cell_type": "markdown",
   "metadata": {},
   "source": [
    "The length of summary is consistently low for all ratings, just one sentences in most cases!"
   ]
  },
  {
   "cell_type": "markdown",
   "metadata": {},
   "source": [
    "However, how a reviewer usually summarize a long review text into a sentence? Let's take a look at an example of review text, summary and overall rating."
   ]
  },
  {
   "cell_type": "code",
   "execution_count": 11,
   "metadata": {},
   "outputs": [
    {
     "name": "stdout",
     "output_type": "stream",
     "text": [
      "review text:\n",
      " Ok... so I got this because a friend recommended melatonin to help me sleep at night. The first night I tried it I got a little relaxed, fuzzy sleeping feeling for maybe 5 minutes (I was already a little tired) and then BAM I felt hyper. Every other time I tried it since then? Nada. I might as well be drinking water.As for taste... I love me some straight up spirits, so the alcoholy part didn't bother me. It reminded me a bit of NyQuil meets a bit of, I don't know.. some sort of flavored vodka. I'm certainly drank worse things. \n",
      "\n",
      "summary sentence:\n",
      " Can't decide if I should dump the rest or just keep using it \n",
      "\n",
      "rating= 1.0\n"
     ]
    }
   ],
   "source": [
    "print (\"review text:\\n\",df.loc[0]['reviewText'], \"\\n\")\n",
    "print (\"summary sentence:\\n\",df.loc[0]['summary'], \"\\n\")\n",
    "print (\"rating=\", df.loc[0]['overall'])"
   ]
  },
  {
   "cell_type": "markdown",
   "metadata": {},
   "source": [
    "The reviewer rated the product 1 star, which is the lowest one. The review text gives more details of the user's experience, negative and positive and something in between. For example, \"The first night I tried it I got a little relaxed\" apparently is spoken in a relatively positive fashion. \"I love me some straight up spirits, so the alcoholy part didn't bother me.\" is in between positive and negative. The taste does not bother the user although the user did not complement on it. \"then BAM I felt hyper\" may suggest a negative experience. It is therefore inappropriate to see the whole review text as being negative, although the overall rating is 1. \n",
    "\n",
    "However, the summary sentence does more straighforwardly reflect the user's feeling (mainly negative) than the review text.\n",
    "\n",
    "Let's take a look at another example for which the rating is 4 or 5. "
   ]
  },
  {
   "cell_type": "code",
   "execution_count": 12,
   "metadata": {},
   "outputs": [
    {
     "name": "stdout",
     "output_type": "stream",
     "text": [
      "review text:\n",
      " I have trouble falling asleep, and I have used ambien, Tylenol PM, and Unisom.  All work; however, they leave me a little groggy in the morning.  I had very little success with melatonin in the pill form.  I heard about the liquid form, ordered it, and I am having much better results with it.....generally falling asleep within 20 - 30 minutes after head hits the pillow. \n",
      "\n",
      "summary sentence:\n",
      " Better than pills \n",
      "\n",
      "rating= 4.0\n"
     ]
    }
   ],
   "source": [
    "print (\"review text:\\n\",df.loc[5]['reviewText'], \"\\n\")\n",
    "print (\"summary sentence:\\n\",df.loc[5]['summary'], \"\\n\")\n",
    "print (\"rating=\", df.loc[5]['overall'])"
   ]
  },
  {
   "cell_type": "markdown",
   "metadata": {},
   "source": [
    "It shows that overall the user was happy with the product. However, several sentences are not relevant to the product such as \"I have trouble falling asleep, and I have used ambien, Tylenol PM, and Unisom.\". These sentences are plain fact without strong polarity. These are the sentences that from which we cannot extract any opinions from. "
   ]
  },
  {
   "cell_type": "markdown",
   "metadata": {},
   "source": [
    "These two examples suggest that it is inappropriate to treat the whole review text as either entirely positive opinions or negative opinions only based on their rating. Instead, what I want to find are a subset of sentences from the review text with strong polarity and mostly likely contain some opinions. \n",
    "\n",
    "This also suggest that I cannot collect the review texts as training data for sentiment analysis only based on their rating. Therefore, in the next section, I will collect the sentences that are mostly likely opinions to be training set for sentiment analysis. "
   ]
  },
  {
   "cell_type": "markdown",
   "metadata": {},
   "source": [
    "# Sentiment Analysis"
   ]
  },
  {
   "cell_type": "markdown",
   "metadata": {},
   "source": [
    "As discussed above, a long review text may not focus on user's experience with the product. Therefore, to get a good training set for sentiment analysis, I collect the review text with no more than 2 sentences. These review text more likely to focus on user's experience and has clearer polarity as compared to the longer ones.\n",
    "\n",
    "Another useful set of text data is the summary. As shown above, the summary usually has only one sentence which are the best representative of the user's experiences. "
   ]
  },
  {
   "cell_type": "markdown",
   "metadata": {},
   "source": [
    "Therefore, to construct the training, validation and test data, I collect the short reivew text (<=2 sentences) and all of the summary sentences. \n",
    "\n",
    "Short review text and summary with rating at 4 or 5 are considered positive opinions and will be labeled as '1', while short review text and summary with rating at 1 or 2 are considered as negative opinions will be labeled as '0'. "
   ]
  },
  {
   "cell_type": "code",
   "execution_count": 13,
   "metadata": {},
   "outputs": [],
   "source": [
    "# get the summary sentences for training, validation data\n",
    "df_1=df[(df['overall'].isin([5,4,2,1]))][['overall', 'summary']]\n",
    "# get the rows where the review text with no more than 2 sentences and select the summary sentences and review text for training, validation data\n",
    "df_2=df[(df['overall'].isin([5,4,2,1])) & (df[\"sent_number\"].isin([1,2]))][['overall', 'reviewText']]"
   ]
  },
  {
   "cell_type": "code",
   "execution_count": 14,
   "metadata": {},
   "outputs": [],
   "source": [
    "# rename the columns to sentences\n",
    "df_1=df_1.rename(columns={'summary':'sentences'})\n",
    "df_2=df_2.rename(columns={'reviewText':'sentences'})\n",
    "\n",
    "# concatenate the two dataframe by row into the dataset for training-validation-testing, df_tvt\n",
    "df_tvt=pd.concat([df_1, df_2], axis=0).dropna()\n",
    "df_tvt.index=range(df_tvt.shape[0])\n",
    "\n",
    "# create label from the rating\n",
    "df_tvt['label']=df_tvt['overall'].map({5:1,4:1,2:0,1:0})"
   ]
  },
  {
   "cell_type": "markdown",
   "metadata": {},
   "source": [
    "Let's look at the integrated dataset that will be used for training, validation and test"
   ]
  },
  {
   "cell_type": "code",
   "execution_count": 15,
   "metadata": {},
   "outputs": [
    {
     "data": {
      "text/html": [
       "<div>\n",
       "<style>\n",
       "    .dataframe thead tr:only-child th {\n",
       "        text-align: right;\n",
       "    }\n",
       "\n",
       "    .dataframe thead th {\n",
       "        text-align: left;\n",
       "    }\n",
       "\n",
       "    .dataframe tbody tr th {\n",
       "        vertical-align: top;\n",
       "    }\n",
       "</style>\n",
       "<table border=\"1\" class=\"dataframe\">\n",
       "  <thead>\n",
       "    <tr style=\"text-align: right;\">\n",
       "      <th></th>\n",
       "      <th>overall</th>\n",
       "      <th>sentences</th>\n",
       "      <th>label</th>\n",
       "    </tr>\n",
       "  </thead>\n",
       "  <tbody>\n",
       "    <tr>\n",
       "      <th>0</th>\n",
       "      <td>1.0</td>\n",
       "      <td>Can't decide if I should dump the rest or just...</td>\n",
       "      <td>0</td>\n",
       "    </tr>\n",
       "    <tr>\n",
       "      <th>1</th>\n",
       "      <td>5.0</td>\n",
       "      <td>Melatonin luquid</td>\n",
       "      <td>1</td>\n",
       "    </tr>\n",
       "    <tr>\n",
       "      <th>2</th>\n",
       "      <td>5.0</td>\n",
       "      <td>strong smell, mixes well into dark juice</td>\n",
       "      <td>1</td>\n",
       "    </tr>\n",
       "    <tr>\n",
       "      <th>3</th>\n",
       "      <td>4.0</td>\n",
       "      <td>Works great</td>\n",
       "      <td>1</td>\n",
       "    </tr>\n",
       "    <tr>\n",
       "      <th>4</th>\n",
       "      <td>4.0</td>\n",
       "      <td>It really does help!</td>\n",
       "      <td>1</td>\n",
       "    </tr>\n",
       "  </tbody>\n",
       "</table>\n",
       "</div>"
      ],
      "text/plain": [
       "   overall                                          sentences  label\n",
       "0      1.0  Can't decide if I should dump the rest or just...      0\n",
       "1      5.0                                   Melatonin luquid      1\n",
       "2      5.0           strong smell, mixes well into dark juice      1\n",
       "3      4.0                                        Works great      1\n",
       "4      4.0                               It really does help!      1"
      ]
     },
     "execution_count": 15,
     "metadata": {},
     "output_type": "execute_result"
    }
   ],
   "source": [
    "df_tvt.head(5)"
   ]
  },
  {
   "cell_type": "markdown",
   "metadata": {},
   "source": [
    "How many positive sentences and negative sentences do I have?"
   ]
  },
  {
   "cell_type": "code",
   "execution_count": 16,
   "metadata": {},
   "outputs": [
    {
     "data": {
      "text/plain": [
       "1    3755\n",
       "0     777\n",
       "Name: label, dtype: int64"
      ]
     },
     "execution_count": 16,
     "metadata": {},
     "output_type": "execute_result"
    }
   ],
   "source": [
    "df_tvt['label'].value_counts()"
   ]
  },
  {
   "cell_type": "markdown",
   "metadata": {},
   "source": [
    "let's take a look the size of the training-validation set as compared to the rest unlabeled data (in terms of number of sentences)"
   ]
  },
  {
   "cell_type": "code",
   "execution_count": 17,
   "metadata": {},
   "outputs": [
    {
     "name": "stdout",
     "output_type": "stream",
     "text": [
      "training-validation set 16.17% of total data\n"
     ]
    }
   ],
   "source": [
    "N=df['sent_number'].sum()+len(df['summary'])\n",
    "\n",
    "print ('training-validation set {}% of total data'.format(round(100*df_tvt.shape[0]/N, 2)))"
   ]
  },
  {
   "cell_type": "markdown",
   "metadata": {},
   "source": [
    "It shows that the postive sentences are four times more than the negative sentences. Again this is because that generally the number of reviews increases as rating increases (as shown earlier). This indicates an unbalanced class. However, if this is what the rest of data looks like, the imbalance is also feature of the data. So I do not do oversampling or undersampling and begin with this unbalanced dataset. "
   ]
  },
  {
   "cell_type": "markdown",
   "metadata": {},
   "source": [
    "### Data preprocessing\n",
    "\n",
    "Before sentiment analysis, the raw text data needs to be preprocessed. Here I preprocess the data in following steps:\n",
    "\n",
    "- separate \"not\" as a single word. For example: don't -> do not, won't -> will not. This needs to be done because 'not' is very important to distinguish positive opinions and negative opinions, and techniques such as stemming and lemmitizing does not seperate it from these abbreviated words. \n",
    "\n",
    "- spelling correction. For example, amazzzzing -> amazing. \n",
    "\n",
    "- remove punctuation.\n",
    "\n",
    "- lemmatization\n",
    "\n",
    "I wrote a customized preprocessor that can transform a raw text message in above steps and save it in the Preprocess.py file in the same folder. Here I import it. "
   ]
  },
  {
   "cell_type": "code",
   "execution_count": 18,
   "metadata": {},
   "outputs": [],
   "source": [
    "from Preprocess import Preprocessor"
   ]
  },
  {
   "cell_type": "markdown",
   "metadata": {},
   "source": [
    "for example, the text \"It is amazzzzing! I cant believe that I fell asleep within mins!\""
   ]
  },
  {
   "cell_type": "code",
   "execution_count": 19,
   "metadata": {},
   "outputs": [
    {
     "data": {
      "text/plain": [
       "'amazing not believe fell asleep within min'"
      ]
     },
     "execution_count": 19,
     "metadata": {},
     "output_type": "execute_result"
    }
   ],
   "source": [
    "text=\"It is amazzzzing! I cant believe that I fell asleep within mins!\"\n",
    "Preprocessor(text)"
   ]
  },
  {
   "cell_type": "markdown",
   "metadata": {},
   "source": [
    "It is not perfectly preprocessed since word \"mins\" cannot be detected as an abbreviation of 'minutes', but it does the job to clean the data to the extent that features such as words and ngrams are ready to be extracted. "
   ]
  },
  {
   "cell_type": "markdown",
   "metadata": {},
   "source": [
    "Preprocess the raw sentences into text ready to extract features and train classifier:"
   ]
  },
  {
   "cell_type": "code",
   "execution_count": 20,
   "metadata": {},
   "outputs": [],
   "source": [
    "df_tvt['text']=df_tvt['sentences'].apply(Preprocessor)"
   ]
  },
  {
   "cell_type": "markdown",
   "metadata": {},
   "source": [
    "## Building a pipeline of feature selection and classification"
   ]
  },
  {
   "cell_type": "markdown",
   "metadata": {},
   "source": [
    "### I. Train_test split"
   ]
  },
  {
   "cell_type": "code",
   "execution_count": 21,
   "metadata": {},
   "outputs": [],
   "source": [
    "from sklearn.pipeline import Pipeline\n",
    "from sklearn.model_selection import train_test_split\n",
    "\n",
    "X=df_tvt['text'].values\n",
    "y=df_tvt['label'].values.astype(int)\n",
    "\n",
    "X_train, X_test, y_train, y_test =  train_test_split(X,y,stratify=y,test_size=0.3, random_state=42)"
   ]
  },
  {
   "cell_type": "markdown",
   "metadata": {},
   "source": [
    "### II. Building stages of pipeline and defining the parameter grid for following classifiers: \n",
    "- naive bayes\n",
    "- support vector machine (SVM)\n",
    "- random forest\n",
    "- gradient boosting"
   ]
  },
  {
   "cell_type": "code",
   "execution_count": 22,
   "metadata": {},
   "outputs": [],
   "source": [
    "# hyperparameters to tune for naive bayes\n",
    "param_grid_nb = {'clf__alpha':[0.1, 1, 10]}\n",
    "\n",
    "# hyperparameters to tune for support vector machine\n",
    "param_grid_svm = {\n",
    "    'clf__C':[0.01, 0.1, 1, 10],\n",
    "    'clf__kernel':['rbf','poly'],\n",
    "    'clf__gamma':[0.01, 0.1, 1, 10]\n",
    "}\n",
    "\n",
    "\n",
    "# hyperparameters to tune for random forest\n",
    "param_grid_rf = {\n",
    "    'clf__n_estimators':[100, 500, 1000],\n",
    "    'clf__max_features': [10, 'log2', 'sqrt'],\n",
    "    'clf__max_depth':[8, 10, 40]\n",
    "}\n",
    "\n",
    "# hyperparameters to tune for gradient boosting\n",
    "param_grid_gb = {\n",
    "    'clf__n_estimators':[50, 100, 500],\n",
    "    'clf__max_features': [20, 'log2', 'sqrt'],\n",
    "    'clf__min_samples_leaf':[3, 10, 20],\n",
    "    'clf__min_samples_split':[3, 5, 10]\n",
    "}\n",
    "\n",
    "# a dictionary for the parameter grids of each classifier with abbreviated name\n",
    "# of the classifier as the key\n",
    "param_grids={'nb':param_grid_nb, \n",
    "             'rf':param_grid_rf,\n",
    "             'svm':param_grid_svm,\n",
    "             'gb':param_grid_gb}"
   ]
  },
  {
   "cell_type": "code",
   "execution_count": 23,
   "metadata": {},
   "outputs": [
    {
     "name": "stdout",
     "output_type": "stream",
     "text": [
      "now tuning model  nb\n",
      "\n",
      "    ngram range: 1- 3\n",
      "\n",
      "    ngram range: 1- 4\n",
      "\n",
      "    ngram range: 1- 5\n",
      "now tuning model  rf\n",
      "\n",
      "    ngram range: 1- 3\n",
      "\n",
      "    ngram range: 1- 4\n",
      "\n",
      "    ngram range: 1- 5\n",
      "now tuning model  svm\n",
      "\n",
      "    ngram range: 1- 3\n",
      "\n",
      "    ngram range: 1- 4\n",
      "\n",
      "    ngram range: 1- 5\n",
      "now tuning model  gb\n",
      "\n",
      "    ngram range: 1- 3\n",
      "\n",
      "    ngram range: 1- 4\n",
      "\n",
      "    ngram range: 1- 5\n"
     ]
    }
   ],
   "source": [
    "from sklearn.model_selection import GridSearchCV\n",
    "from sklearn import svm\n",
    "from sklearn.naive_bayes import MultinomialNB\n",
    "from sklearn.ensemble import RandomForestClassifier\n",
    "from sklearn.ensemble import GradientBoostingClassifier\n",
    "from sklearn.feature_extraction.text import TfidfVectorizer\n",
    "from sklearn.feature_selection import SelectKBest, chi2\n",
    "\n",
    "\"\"\"This block of codes tune each type of classifier and record the model with tuned\n",
    "hyperparameters\"\"\"\n",
    "# a  TfidfVectorizer\n",
    "vect=TfidfVectorizer()\n",
    "\n",
    "# a chi-square feature selector\n",
    "selector=SelectKBest(score_func=chi2)\n",
    "\n",
    "clfs={'nb':MultinomialNB(), \n",
    "      'rf':RandomForestClassifier(class_weight='balanced'),\n",
    "      'svm':svm.SVC(class_weight='balanced'),\n",
    "      'gb':GradientBoostingClassifier()}\n",
    "\n",
    "'''tune the model using different ranges of ngrams\n",
    " for example, ngram=2 means using unigram and bigram, ngram=3 means using \n",
    " unigram, bigram and trigrams\n",
    " \n",
    " It is varied because short grams may result in underfitting since \n",
    " more meaningful phrases usually have more words, but long grams may \n",
    " cause overfitting. Therefore, ngram range is varied to find the best balance\n",
    " between underfitting and overfitting'''\n",
    "\n",
    "ngrams=[3,4,5]\n",
    "\n",
    "tuned_models=dict() \n",
    "for model in clfs.keys():\n",
    "    print (\"now tuning model \", model)\n",
    "    tuned_models[model]=list()\n",
    "    clf = clfs[model]\n",
    "    pipeline=Pipeline([('vect', vect),\n",
    "                       ('select', selector),\n",
    "                       ('clf', clf)])\n",
    "    param_grid=param_grids[model]\n",
    "    param_grid['select__k']=[100] # add the chi square feature selection parameter\n",
    "    for ngram in ngrams:\n",
    "        print ('\\n    ngram range: 1-', ngram)\n",
    "        param_grid['vect__ngram_range']=[(1,ngram)]\n",
    "        grid = GridSearchCV(pipeline, cv=5, param_grid=param_grid)   \n",
    "        grid.fit(X_train,y_train)\n",
    "        tuned_models[model].append(grid)"
   ]
  },
  {
   "cell_type": "markdown",
   "metadata": {},
   "source": [
    "### III. Evaluate performance of tuned classifiers"
   ]
  },
  {
   "cell_type": "markdown",
   "metadata": {},
   "source": [
    "I evaluate the tuned classifiers in following ways: \n",
    "    - precision, recall, F1 and accuracy of the classifier on the training data and test data\n",
    "    - ROC curve and precision-recall curve \n",
    "To be able to evaluate them in multiple perspectives, I wrote my own functions that helps visualize the performance and choose the best classifier. They can be imported found in Metrics_report.py file in the same folder."
   ]
  },
  {
   "cell_type": "code",
   "execution_count": 24,
   "metadata": {},
   "outputs": [
    {
     "data": {
      "image/png": "[encoded data removed]",
      "text/plain": [
       "<matplotlib.figure.Figure at 0x1e83cf70f28>"
      ]
     },
     "metadata": {},
     "output_type": "display_data"
    },
    {
     "data": {
      "image/png": "[encoded data removed]",
      "text/plain": [
       "<matplotlib.figure.Figure at 0x1e8483daba8>"
      ]
     },
     "metadata": {},
     "output_type": "display_data"
    },
    {
     "data": {
      "image/png": "[encoded data removed]",
      "text/plain": [
       "<matplotlib.figure.Figure at 0x1e848680780>"
      ]
     },
     "metadata": {},
     "output_type": "display_data"
    },
    {
     "data": {
      "image/png": "[encoded data removed]",
      "text/plain": [
       "<matplotlib.figure.Figure at 0x1e848953ef0>"
      ]
     },
     "metadata": {},
     "output_type": "display_data"
    }
   ],
   "source": [
    "from Metrics_report import Performance_report, PR, ROC, PR_by_class\n",
    "\n",
    "%matplotlib inline\n",
    "\n",
    "model_names={'nb':'naive bayes',\n",
    "             'rf':'random forest',\n",
    "             'svm':'support vector machine',\n",
    "             'gb':'gradient boosting'}\n",
    "colors=['r', 'b', 'g', 'm']\n",
    "for metric in ['f1', 'precision', 'recall', 'accuracy']:\n",
    "    #plt.title(metric+' score')\n",
    "    \n",
    "    plt.figure(figsize=(40,10))\n",
    "\n",
    "    for n,model in enumerate(clfs.keys()):\n",
    "        plt.subplot(1,4,n+1)\n",
    "        trainscores=list()\n",
    "        testscores=list()\n",
    "        for i, ngram in enumerate(ngrams):\n",
    "            grid=tuned_models[model][i]\n",
    "            training_metrics, testing_metrics=Performance_report(grid, X_train, y_train, X_test, y_test, printout=False)\n",
    "            trainscores.append(training_metrics[metric])\n",
    "            testscores.append(testing_metrics[metric])\n",
    "\n",
    "        plt.title(model_names[model], size=30)\n",
    "        plt.plot(ngrams, trainscores, label='training', color='b')\n",
    "        plt.hold\n",
    "        line,=plt.plot(ngrams, testscores, label='testing', color='r')\n",
    "        \n",
    "        plt.xlabel('n-grams', size=30)\n",
    "        plt.ylabel(metric+' score', size=30)\n",
    "        plt.xticks(ngrams,ngrams,size = 30)\n",
    "        plt.yticks(size = 30)\n",
    "        plt.legend(prop={'size': 15})\n",
    "        plt.ylim(0,1)"
   ]
  },
  {
   "cell_type": "markdown",
   "metadata": {},
   "source": [
    "It shows that overall SVM and gradient boosting perform better than random forest or naive bayes (where random forest has the poorest performance). \n",
    "\n",
    "Compared to the other two classifiers, both SVM and gradient boosting show the smaller gap between testing score (red) and training score (blue), indicating less overfitting. Given the small size of training-validation data (about 17%*0.7=12% of the whole data), it is important that the model does not overfit. \n",
    "\n",
    "Overall the score does not considerably change as ngram increases. In order to avoid underfitting, I choose 5 grams. \n",
    "\n",
    "In summary, the classifier I pick is Gradient boosting with 5-grams. "
   ]
  },
  {
   "cell_type": "code",
   "execution_count": 31,
   "metadata": {},
   "outputs": [],
   "source": [
    "tuned_clf=tuned_models['gb'][-1]"
   ]
  },
  {
   "cell_type": "markdown",
   "metadata": {},
   "source": [
    "Let's take a closer look at the performance of the gradient boosting classifier"
   ]
  },
  {
   "cell_type": "code",
   "execution_count": 32,
   "metadata": {},
   "outputs": [
    {
     "name": "stdout",
     "output_type": "stream",
     "text": [
      "Best: 0.871690 using {'clf__max_features': 'sqrt', 'clf__min_samples_leaf': 3, 'clf__min_samples_split': 10, 'clf__n_estimators': 100, 'select__k': 100, 'vect__ngram_range': (1, 5)}\n",
      "\n",
      "------------------------------------------\n",
      "\n",
      "the classification on training data are\n",
      "\n",
      "confusion matrix:\n",
      "\n",
      "[[ 242  302]\n",
      " [  22 2606]]\n",
      "accuracy=0.8978562421185372\n",
      "\n",
      "cohen kappa=0.5483991169481277\n",
      "\n",
      "             precision    recall  f1-score   support\n",
      "\n",
      "          0       0.92      0.44      0.60       544\n",
      "          1       0.90      0.99      0.94      2628\n",
      "\n",
      "avg / total       0.90      0.90      0.88      3172\n",
      "\n",
      "\n",
      "------------------------------------------\n",
      "\n",
      "the classification on test data are\n",
      "\n",
      "confusion matrix:\n",
      "\n",
      "[[ 122  111]\n",
      " [  39 1088]]\n",
      "accuracy=0.8897058823529411\n",
      "\n",
      "cohen kappa=0.5573051165980201\n",
      "\n",
      "             precision    recall  f1-score   support\n",
      "\n",
      "          0       0.76      0.52      0.62       233\n",
      "          1       0.91      0.97      0.94      1127\n",
      "\n",
      "avg / total       0.88      0.89      0.88      1360\n",
      "\n"
     ]
    },
    {
     "data": {
      "text/plain": [
       "({'accuracy': 0.89785624211853721,\n",
       "  'cohen_kappa': 0.54839911694812771,\n",
       "  'f1': 0.77024194471470264,\n",
       "  'precision': 0.90640761118752866,\n",
       "  'recall': 0.71824077804637843},\n",
       " {'accuracy': 0.88970588235294112,\n",
       "  'cohen_kappa': 0.55730511659802007,\n",
       "  'f1': 0.77740047400604939,\n",
       "  'precision': 0.83259341376613016,\n",
       "  'recall': 0.74450000190410182})"
      ]
     },
     "execution_count": 32,
     "metadata": {},
     "output_type": "execute_result"
    }
   ],
   "source": [
    "Performance_report(tuned_clf, X_train, y_train, X_test, y_test, printout=True)"
   ]
  },
  {
   "cell_type": "markdown",
   "metadata": {},
   "source": [
    "It shows that precision and recall are both higher for positive opinions (class 1) than for negative opinions (class 0), for both training data and testing data. \n",
    "\n",
    "In addition, recall of negative opinions is low for both testing (0.45) and training (0.42). \n",
    "\n",
    "These can be due to the unbalanced class: the amount of positive opinions is 5 times of that of negative opinions, so that the classifier is better at detecting positive ones than negative ones.\n",
    "\n",
    "And how about the ROC curve and precision-recall curve?"
   ]
  },
  {
   "cell_type": "code",
   "execution_count": null,
   "metadata": {},
   "outputs": [],
   "source": [
    "from Metrics_report import PR, ROC, PR_by_class"
   ]
  },
  {
   "cell_type": "code",
   "execution_count": 27,
   "metadata": {
    "scrolled": true
   },
   "outputs": [
    {
     "data": {
      "image/png": "[encoded data removed]",
      "text/plain": [
       "<matplotlib.figure.Figure at 0x1e848be4f98>"
      ]
     },
     "metadata": {},
     "output_type": "display_data"
    }
   ],
   "source": [
    "ROC(tuned_clf, X_test, y_test)"
   ]
  },
  {
   "cell_type": "markdown",
   "metadata": {},
   "source": [
    "The ROC curve again shows that performance of gradient boosting on the test data. The area under the ROC curve (RUC) is 0.8, a considerable deviation from the random classification. "
   ]
  },
  {
   "cell_type": "code",
   "execution_count": 28,
   "metadata": {},
   "outputs": [
    {
     "data": {
      "image/png": "[encoded data removed]",
      "text/plain": [
       "<matplotlib.figure.Figure at 0x1e83cf70860>"
      ]
     },
     "metadata": {},
     "output_type": "display_data"
    }
   ],
   "source": [
    "PR(tuned_clf, X_train, y_train)"
   ]
  },
  {
   "cell_type": "markdown",
   "metadata": {},
   "source": [
    "The Precision-recall (PR) curve shows a good balance beteween precision and recall. "
   ]
  },
  {
   "cell_type": "code",
   "execution_count": 70,
   "metadata": {},
   "outputs": [
    {
     "data": {
      "image/png": "[encoded data removed]",
      "text/plain": [
       "<matplotlib.figure.Figure at 0x1e848cefa90>"
      ]
     },
     "metadata": {},
     "output_type": "display_data"
    }
   ],
   "source": [
    "PR_by_class(tuned_clf, X_train, y_train)"
   ]
  },
  {
   "cell_type": "markdown",
   "metadata": {},
   "source": [
    "The PR_curve for each class shows that the classifier performs better on class 1 (positive opinions) than on class 0 (negative opinions)"
   ]
  },
  {
   "cell_type": "code",
   "execution_count": 33,
   "metadata": {},
   "outputs": [
    {
     "data": {
      "text/plain": [
       "['clf.pkl']"
      ]
     },
     "execution_count": 33,
     "metadata": {},
     "output_type": "execute_result"
    }
   ],
   "source": [
    "# save the model for later analysis\n",
    "from sklearn.externals import joblib\n",
    "joblib.dump(tuned_clf, 'clf.pkl')"
   ]
  },
  {
   "cell_type": "markdown",
   "metadata": {},
   "source": [
    "### IV. Find the optimal cutoff for most negative opinions and most positive opinions\n",
    "\n",
    "The goal of the algorithm is to identify the postive comments and negative comments with relatively high confidence. We do not want to include false positive or false negative since information from these misclassified comments will mislead both the users and the manufactures. If considering it in terms of precision-recall tradeoff, precision matters more than recall in this condition and should be given higher weight when choosing the cutoff probability. \n",
    "\n",
    "The default cutoff probability is 0.5: sentences with score greater than 0.5 will be classified as positive and those with scores below 0.5 are predicted as negative. Varying this probability will result in enhanced precision for one class but reduced precision for the other. Therefore, to gurantee high precision for both classes, I seperately choose the cutoff probability for negative comments and postive comments. \n",
    "\n",
    "The cutoff probabilities would be higher than 0.5 for postive comments and lower than 0.5 for negative comments, so that the precision for both classes will be improved. This will cause sentences with scores between the two cutoff probabilities to not be classified. I call these sentences with smaller polarity and relatively neutral. These sentences are ones that there is higher uncertainty (lower confidence) associated with the postive/negative classification. \n",
    "\n",
    "However, only optimizing precision will harm the recall. So instead of using precision as the only metric, I use the combination of precision and recall as the metric and put more weight on precision. Fbeta score, is such a meature. It is the F1 score when precision and recall can have different weights. I set the weight of recall smaller than weight of precision (0.2 as compared to precision) and find the cutoff probaiblity at which Fbeta is highest for each class. \n",
    "\n",
    "I use the training data to calibrate the model and identify the optimized cutoff probabilities and test these cutoff probabilities on test data. "
   ]
  },
  {
   "cell_type": "code",
   "execution_count": 35,
   "metadata": {},
   "outputs": [],
   "source": [
    "from sklearn.metrics import precision_recall_fscore_support\n",
    "\n",
    "def Fbeta_by_Threshold(grid, X, y, beta):\n",
    "    colors=['blue', 'red']\n",
    "    pred_probs=grid.predict_proba(X)\n",
    "    y_pred=np.array([-1 for i in range(len(y))])\n",
    "    thresholds=np.linspace(0,1,500)\n",
    "    fbetas=np.empty([len(thresholds), 2])\n",
    "    for i,t in enumerate(thresholds):\n",
    "        y_pred[pred_probs[:,1]<t]=0\n",
    "        y_pred[pred_probs[:,1]>t]=1\n",
    "        \n",
    "        precision,recall,fbeta,support=precision_recall_fscore_support(y, y_pred, beta=beta, labels=[0,1], average=None)\n",
    "        fbetas[i, 0]=fbeta[0]\n",
    "        fbetas[i, 1]=fbeta[1]\n",
    "        #print (precision,recall,fbeta)\n",
    "    optimal_cutoff=list()\n",
    "    for i in range(2):\n",
    "        optimal_cutoff.append(thresholds[np.argmax(fbetas[:, i])])\n",
    "   \n",
    "    return (tuple(optimal_cutoff))"
   ]
  },
  {
   "cell_type": "code",
   "execution_count": 103,
   "metadata": {},
   "outputs": [
    {
     "name": "stderr",
     "output_type": "stream",
     "text": [
      "C:\\anaconda\\lib\\site-packages\\sklearn\\metrics\\classification.py:1135: UndefinedMetricWarning: Precision and F-score are ill-defined and being set to 0.0 in labels with no predicted samples.\n",
      "  'precision', 'predicted', average, warn_for)\n"
     ]
    }
   ],
   "source": [
    "# separatey optimizing Fbeta for each class\n",
    "cutoff_0,_=Fbeta_by_Threshold(tuned_clf, X_train, y_train, 0.3)\n",
    "_,cutoff_1=Fbeta_by_Threshold(tuned_clf, X_train, y_train, 0.1)"
   ]
  },
  {
   "cell_type": "code",
   "execution_count": 104,
   "metadata": {},
   "outputs": [
    {
     "name": "stdout",
     "output_type": "stream",
     "text": [
      "after being optimized on Fbeta, the cutoff value for negative opinion is 0.422845691383\n",
      "after being optimized on Fbeta, the cutoff value for positive opinion is 0.915831663327\n"
     ]
    }
   ],
   "source": [
    "print (\"after being optimized on Fbeta, the cutoff value for negative opinion is\", cutoff_0)\n",
    "print (\"after being optimized on Fbeta, the cutoff value for positive opinion is\", cutoff_1)\n",
    "#optimal_cutoff_1"
   ]
  },
  {
   "cell_type": "markdown",
   "metadata": {},
   "source": [
    "It shows that the optimal cutoff probability is 0.362 for class 0 (negative comments) and 0.869 for class 1(positive comments). It means that classifying all sentences with predicted score <0.362 as negative ones maximizes the fbeta for negative comments. And when classifying all sentences with predicted score >0.869 as positive maximizes the fbeta for positive comments. "
   ]
  },
  {
   "cell_type": "markdown",
   "metadata": {},
   "source": [
    "## Classifying Opinions"
   ]
  },
  {
   "cell_type": "markdown",
   "metadata": {},
   "source": [
    "I use the chosen tuned classifier to predict the probability that each sentence of the reviewer's review text is positive."
   ]
  },
  {
   "cell_type": "markdown",
   "metadata": {},
   "source": [
    "### I. Data preprocessing of the rest of unlabeled review text\n",
    "\n",
    "As discussed earlier, I only use review text with no more than 2 sentences for the training and validation. Sentences in all longer review text are still unlabeled, so I will use the tuned classifier to predict their polarity. \n",
    "\n",
    "Firstly, get a subset of the dataset with only long review text."
   ]
  },
  {
   "cell_type": "code",
   "execution_count": 49,
   "metadata": {},
   "outputs": [],
   "source": [
    "df_unlabel=df[(df['sent_number']>2) | (df['overall']==3)][['reviewerID', 'asin', 'reviewText', 'overall']]"
   ]
  },
  {
   "cell_type": "markdown",
   "metadata": {},
   "source": [
    "column 'reviewID' and 'asin' are also kept since their combination can make a unique key id for each review text. "
   ]
  },
  {
   "cell_type": "code",
   "execution_count": 50,
   "metadata": {},
   "outputs": [],
   "source": [
    "df_unlabel['user_product_id']=df_unlabel['reviewerID']+'_'+df_unlabel['asin']\n",
    "df_unlabel=df_unlabel.set_index('user_product_id')"
   ]
  },
  {
   "cell_type": "markdown",
   "metadata": {},
   "source": [
    "Then I tokenize each long review text ('reviewText' column) into sentences and create a dataframe with 'user_product_id' column  one column for the rating ('overall') and one column for the sentence that a user wrote for a spefic product ('sentences'). "
   ]
  },
  {
   "cell_type": "code",
   "execution_count": 51,
   "metadata": {},
   "outputs": [],
   "source": [
    "from Text_to_sent import Text_into_sent\n",
    "\n",
    "df_review=df_unlabel['reviewText'].apply(Text_into_sent).apply(pd.Series).stack()\n",
    "df_review=df_review.reset_index().drop(['level_1'], axis=1).rename(columns={'level_0':'user_product_id', 0:'sentences'})\n",
    "df_review=df_review.merge(df_unlabel[['overall']].reset_index(), left_on='user_product_id', right_on='user_product_id')"
   ]
  },
  {
   "cell_type": "markdown",
   "metadata": {},
   "source": [
    "Let's take a look at the dataframe where sentences are to be classified"
   ]
  },
  {
   "cell_type": "code",
   "execution_count": 52,
   "metadata": {},
   "outputs": [
    {
     "data": {
      "text/html": [
       "<div>\n",
       "<style>\n",
       "    .dataframe thead tr:only-child th {\n",
       "        text-align: right;\n",
       "    }\n",
       "\n",
       "    .dataframe thead th {\n",
       "        text-align: left;\n",
       "    }\n",
       "\n",
       "    .dataframe tbody tr th {\n",
       "        vertical-align: top;\n",
       "    }\n",
       "</style>\n",
       "<table border=\"1\" class=\"dataframe\">\n",
       "  <thead>\n",
       "    <tr style=\"text-align: right;\">\n",
       "      <th></th>\n",
       "      <th>user_product_id</th>\n",
       "      <th>sentences</th>\n",
       "      <th>overall</th>\n",
       "    </tr>\n",
       "  </thead>\n",
       "  <tbody>\n",
       "    <tr>\n",
       "      <th>0</th>\n",
       "      <td>A3AUGQNG5EYQ1Y_B000053136</td>\n",
       "      <td>Ok.  so I got this because a friend recommende...</td>\n",
       "      <td>1.0</td>\n",
       "    </tr>\n",
       "    <tr>\n",
       "      <th>1</th>\n",
       "      <td>A3AUGQNG5EYQ1Y_B000053136</td>\n",
       "      <td>The first night I tried it I got a little rela...</td>\n",
       "      <td>1.0</td>\n",
       "    </tr>\n",
       "    <tr>\n",
       "      <th>2</th>\n",
       "      <td>A3AUGQNG5EYQ1Y_B000053136</td>\n",
       "      <td>Every other time I tried it since then?</td>\n",
       "      <td>1.0</td>\n",
       "    </tr>\n",
       "    <tr>\n",
       "      <th>3</th>\n",
       "      <td>A3AUGQNG5EYQ1Y_B000053136</td>\n",
       "      <td>Nada.</td>\n",
       "      <td>1.0</td>\n",
       "    </tr>\n",
       "    <tr>\n",
       "      <th>4</th>\n",
       "      <td>A3AUGQNG5EYQ1Y_B000053136</td>\n",
       "      <td>I might as well be drinking water.As for taste.</td>\n",
       "      <td>1.0</td>\n",
       "    </tr>\n",
       "  </tbody>\n",
       "</table>\n",
       "</div>"
      ],
      "text/plain": [
       "             user_product_id  \\\n",
       "0  A3AUGQNG5EYQ1Y_B000053136   \n",
       "1  A3AUGQNG5EYQ1Y_B000053136   \n",
       "2  A3AUGQNG5EYQ1Y_B000053136   \n",
       "3  A3AUGQNG5EYQ1Y_B000053136   \n",
       "4  A3AUGQNG5EYQ1Y_B000053136   \n",
       "\n",
       "                                           sentences  overall  \n",
       "0  Ok.  so I got this because a friend recommende...      1.0  \n",
       "1  The first night I tried it I got a little rela...      1.0  \n",
       "2            Every other time I tried it since then?      1.0  \n",
       "3                                              Nada.      1.0  \n",
       "4    I might as well be drinking water.As for taste.      1.0  "
      ]
     },
     "execution_count": 52,
     "metadata": {},
     "output_type": "execute_result"
    }
   ],
   "source": [
    "df_review.head(5)"
   ]
  },
  {
   "cell_type": "markdown",
   "metadata": {},
   "source": [
    "Notice that 'overall' is the overall rating of the whole review but not the polarity of the sentence. It is possible that a sentence tone is positive or neutral but from a review with rating of 1."
   ]
  },
  {
   "cell_type": "markdown",
   "metadata": {},
   "source": [
    "These raw sentences are then preprocessed by the customized Preprocessor."
   ]
  },
  {
   "cell_type": "code",
   "execution_count": 53,
   "metadata": {},
   "outputs": [],
   "source": [
    "df_review['text']=df_review['sentences'].apply(lambda x:str(Preprocessor(x)))"
   ]
  },
  {
   "cell_type": "code",
   "execution_count": 54,
   "metadata": {},
   "outputs": [
    {
     "data": {
      "text/html": [
       "<div>\n",
       "<style>\n",
       "    .dataframe thead tr:only-child th {\n",
       "        text-align: right;\n",
       "    }\n",
       "\n",
       "    .dataframe thead th {\n",
       "        text-align: left;\n",
       "    }\n",
       "\n",
       "    .dataframe tbody tr th {\n",
       "        vertical-align: top;\n",
       "    }\n",
       "</style>\n",
       "<table border=\"1\" class=\"dataframe\">\n",
       "  <thead>\n",
       "    <tr style=\"text-align: right;\">\n",
       "      <th></th>\n",
       "      <th>user_product_id</th>\n",
       "      <th>sentences</th>\n",
       "      <th>overall</th>\n",
       "      <th>text</th>\n",
       "    </tr>\n",
       "  </thead>\n",
       "  <tbody>\n",
       "    <tr>\n",
       "      <th>0</th>\n",
       "      <td>A3AUGQNG5EYQ1Y_B000053136</td>\n",
       "      <td>Ok.  so I got this because a friend recommende...</td>\n",
       "      <td>1.0</td>\n",
       "      <td>ok got friend recommended melatonin help sleep...</td>\n",
       "    </tr>\n",
       "    <tr>\n",
       "      <th>1</th>\n",
       "      <td>A3AUGQNG5EYQ1Y_B000053136</td>\n",
       "      <td>The first night I tried it I got a little rela...</td>\n",
       "      <td>1.0</td>\n",
       "      <td>first night tried got little relaxed fuzzy sle...</td>\n",
       "    </tr>\n",
       "    <tr>\n",
       "      <th>2</th>\n",
       "      <td>A3AUGQNG5EYQ1Y_B000053136</td>\n",
       "      <td>Every other time I tried it since then?</td>\n",
       "      <td>1.0</td>\n",
       "      <td>every time tried since</td>\n",
       "    </tr>\n",
       "    <tr>\n",
       "      <th>3</th>\n",
       "      <td>A3AUGQNG5EYQ1Y_B000053136</td>\n",
       "      <td>Nada.</td>\n",
       "      <td>1.0</td>\n",
       "      <td>nada</td>\n",
       "    </tr>\n",
       "    <tr>\n",
       "      <th>4</th>\n",
       "      <td>A3AUGQNG5EYQ1Y_B000053136</td>\n",
       "      <td>I might as well be drinking water.As for taste.</td>\n",
       "      <td>1.0</td>\n",
       "      <td>might well drinking water taste</td>\n",
       "    </tr>\n",
       "  </tbody>\n",
       "</table>\n",
       "</div>"
      ],
      "text/plain": [
       "             user_product_id  \\\n",
       "0  A3AUGQNG5EYQ1Y_B000053136   \n",
       "1  A3AUGQNG5EYQ1Y_B000053136   \n",
       "2  A3AUGQNG5EYQ1Y_B000053136   \n",
       "3  A3AUGQNG5EYQ1Y_B000053136   \n",
       "4  A3AUGQNG5EYQ1Y_B000053136   \n",
       "\n",
       "                                           sentences  overall  \\\n",
       "0  Ok.  so I got this because a friend recommende...      1.0   \n",
       "1  The first night I tried it I got a little rela...      1.0   \n",
       "2            Every other time I tried it since then?      1.0   \n",
       "3                                              Nada.      1.0   \n",
       "4    I might as well be drinking water.As for taste.      1.0   \n",
       "\n",
       "                                                text  \n",
       "0  ok got friend recommended melatonin help sleep...  \n",
       "1  first night tried got little relaxed fuzzy sle...  \n",
       "2                             every time tried since  \n",
       "3                                               nada  \n",
       "4                    might well drinking water taste  "
      ]
     },
     "execution_count": 54,
     "metadata": {},
     "output_type": "execute_result"
    }
   ],
   "source": [
    "df_review.head()"
   ]
  },
  {
   "cell_type": "code",
   "execution_count": 55,
   "metadata": {},
   "outputs": [],
   "source": [
    "df_review=df_review.dropna()"
   ]
  },
  {
   "cell_type": "markdown",
   "metadata": {},
   "source": [
    "### II. Classification"
   ]
  },
  {
   "cell_type": "markdown",
   "metadata": {},
   "source": [
    "Here I will use the classifier to predict the polarity of the sentences: negative, neutral or positive. \n",
    "\n",
    "The threshold of determining that a sentence falls into one category have been set according to earlier section: \n",
    "\n",
    "- sentences with probability <0.352 to be postive are assigned as negative comments;\n",
    "- sentences with probability between 0.352 and 0.874 to be postive are assigned as neutral comments;\n",
    "- sentences with probability greater than 0.874 to be postive are assigned as positive comments;\n",
    "\n",
    "This may fail detect some positive comments and negative comments since the range of likelihood for neutral comments is quite wide (0.352-0.874). However, this is reasonable since the goal is to detect the strongly postive and negative comments rather than all likely negative and positive comments. Or I give precision a higher priority to recall in this context. "
   ]
  },
  {
   "cell_type": "code",
   "execution_count": 56,
   "metadata": {},
   "outputs": [],
   "source": [
    "pred_score=pd.DataFrame(tuned_clf.predict_proba(df_review['text'].values)[:,1], columns=['score'])"
   ]
  },
  {
   "cell_type": "markdown",
   "metadata": {},
   "source": [
    "then merge the predicted score back to the dataframe of review sentences "
   ]
  },
  {
   "cell_type": "code",
   "execution_count": 57,
   "metadata": {},
   "outputs": [],
   "source": [
    "pred_score.index=df_review.index\n",
    "df_pred=pd.concat([df_review, pred_score], axis=1)"
   ]
  },
  {
   "cell_type": "markdown",
   "metadata": {},
   "source": [
    "Now the data has predicted score as one column"
   ]
  },
  {
   "cell_type": "code",
   "execution_count": 58,
   "metadata": {
    "scrolled": true
   },
   "outputs": [
    {
     "data": {
      "text/html": [
       "<div>\n",
       "<style>\n",
       "    .dataframe thead tr:only-child th {\n",
       "        text-align: right;\n",
       "    }\n",
       "\n",
       "    .dataframe thead th {\n",
       "        text-align: left;\n",
       "    }\n",
       "\n",
       "    .dataframe tbody tr th {\n",
       "        vertical-align: top;\n",
       "    }\n",
       "</style>\n",
       "<table border=\"1\" class=\"dataframe\">\n",
       "  <thead>\n",
       "    <tr style=\"text-align: right;\">\n",
       "      <th></th>\n",
       "      <th>user_product_id</th>\n",
       "      <th>sentences</th>\n",
       "      <th>overall</th>\n",
       "      <th>text</th>\n",
       "      <th>score</th>\n",
       "    </tr>\n",
       "  </thead>\n",
       "  <tbody>\n",
       "    <tr>\n",
       "      <th>0</th>\n",
       "      <td>A3AUGQNG5EYQ1Y_B000053136</td>\n",
       "      <td>Ok.  so I got this because a friend recommende...</td>\n",
       "      <td>1.0</td>\n",
       "      <td>ok got friend recommended melatonin help sleep...</td>\n",
       "      <td>0.943416</td>\n",
       "    </tr>\n",
       "    <tr>\n",
       "      <th>1</th>\n",
       "      <td>A3AUGQNG5EYQ1Y_B000053136</td>\n",
       "      <td>The first night I tried it I got a little rela...</td>\n",
       "      <td>1.0</td>\n",
       "      <td>first night tried got little relaxed fuzzy sle...</td>\n",
       "      <td>0.555015</td>\n",
       "    </tr>\n",
       "    <tr>\n",
       "      <th>2</th>\n",
       "      <td>A3AUGQNG5EYQ1Y_B000053136</td>\n",
       "      <td>Every other time I tried it since then?</td>\n",
       "      <td>1.0</td>\n",
       "      <td>every time tried since</td>\n",
       "      <td>0.882763</td>\n",
       "    </tr>\n",
       "    <tr>\n",
       "      <th>3</th>\n",
       "      <td>A3AUGQNG5EYQ1Y_B000053136</td>\n",
       "      <td>Nada.</td>\n",
       "      <td>1.0</td>\n",
       "      <td>nada</td>\n",
       "      <td>0.882763</td>\n",
       "    </tr>\n",
       "    <tr>\n",
       "      <th>4</th>\n",
       "      <td>A3AUGQNG5EYQ1Y_B000053136</td>\n",
       "      <td>I might as well be drinking water.As for taste.</td>\n",
       "      <td>1.0</td>\n",
       "      <td>might well drinking water taste</td>\n",
       "      <td>0.882763</td>\n",
       "    </tr>\n",
       "  </tbody>\n",
       "</table>\n",
       "</div>"
      ],
      "text/plain": [
       "             user_product_id  \\\n",
       "0  A3AUGQNG5EYQ1Y_B000053136   \n",
       "1  A3AUGQNG5EYQ1Y_B000053136   \n",
       "2  A3AUGQNG5EYQ1Y_B000053136   \n",
       "3  A3AUGQNG5EYQ1Y_B000053136   \n",
       "4  A3AUGQNG5EYQ1Y_B000053136   \n",
       "\n",
       "                                           sentences  overall  \\\n",
       "0  Ok.  so I got this because a friend recommende...      1.0   \n",
       "1  The first night I tried it I got a little rela...      1.0   \n",
       "2            Every other time I tried it since then?      1.0   \n",
       "3                                              Nada.      1.0   \n",
       "4    I might as well be drinking water.As for taste.      1.0   \n",
       "\n",
       "                                                text     score  \n",
       "0  ok got friend recommended melatonin help sleep...  0.943416  \n",
       "1  first night tried got little relaxed fuzzy sle...  0.555015  \n",
       "2                             every time tried since  0.882763  \n",
       "3                                               nada  0.882763  \n",
       "4                    might well drinking water taste  0.882763  "
      ]
     },
     "execution_count": 58,
     "metadata": {},
     "output_type": "execute_result"
    }
   ],
   "source": [
    "df_pred.head()"
   ]
  },
  {
   "cell_type": "markdown",
   "metadata": {},
   "source": [
    "Then I classify each sentence into postive, neutral or negative opinions using the two cutoff values: 0.22 and 0.91, and assign -1 to negative, 0 to neutral (not quite negative and not quite positive) and 1 to positive."
   ]
  },
  {
   "cell_type": "code",
   "execution_count": 105,
   "metadata": {},
   "outputs": [],
   "source": [
    "df_pred['label']=df_pred['score'].apply(lambda x:int(x>cutoff_0)-int(x<cutoff_1))"
   ]
  },
  {
   "cell_type": "code",
   "execution_count": 106,
   "metadata": {},
   "outputs": [],
   "source": [
    "df_pred['category']=df_pred['label'].map({-1:'negative', 0:'neutral', 1:'positive'})"
   ]
  },
  {
   "cell_type": "markdown",
   "metadata": {},
   "source": [
    "Let's take a look at the distribution of postive, neutral and negative comments for each rating"
   ]
  },
  {
   "cell_type": "code",
   "execution_count": 107,
   "metadata": {},
   "outputs": [
    {
     "data": {
      "image/png": "[encoded data removed]",
      "text/plain": [
       "<matplotlib.figure.Figure at 0x1e8492f81d0>"
      ]
     },
     "metadata": {},
     "output_type": "display_data"
    }
   ],
   "source": [
    "import seaborn as sns\n",
    "\n",
    "sns.countplot(x='overall', hue='category', data=df_pred)\n",
    "plt.xlabel('rating')\n",
    "plt.ylabel('number of opinions in each category')\n",
    "plt.show()"
   ]
  },
  {
   "cell_type": "markdown",
   "metadata": {},
   "source": [
    "It shows that the majority of comments are categorized as neutral since their probability of being positive is between the two cutoff values. Their polarity is not as strong as the other comments. If we exclude these comments and only look at the strongly negative ones (label= -1) and strongly positive ones:"
   ]
  },
  {
   "cell_type": "code",
   "execution_count": 108,
   "metadata": {},
   "outputs": [
    {
     "data": {
      "image/png": "[encoded data removed]",
      "text/plain": [
       "<matplotlib.figure.Figure at 0x1e84c3e9898>"
      ]
     },
     "metadata": {},
     "output_type": "display_data"
    }
   ],
   "source": [
    "import seaborn as sns\n",
    "\n",
    "sns.countplot(x='overall', hue='category', data=df_pred[df_pred['label']!=0])\n",
    "plt.xlabel('rating')\n",
    "plt.ylabel('number of opinions in each category')\n",
    "plt.show()"
   ]
  },
  {
   "cell_type": "markdown",
   "metadata": {},
   "source": [
    "The result looks reasonable: the fraction of negative comments decreases as rating increases while that of positive comments increases."
   ]
  },
  {
   "cell_type": "markdown",
   "metadata": {},
   "source": [
    "## Extract features and Representative sentences from reviews"
   ]
  },
  {
   "cell_type": "markdown",
   "metadata": {},
   "source": [
    "After all negative opinions and positive opinions are classified, my next question is what are the meaningful phrases we can extract from these opinions? Or what the reviewers mentioned when they feel positive or negative about the product? "
   ]
  },
  {
   "cell_type": "markdown",
   "metadata": {},
   "source": [
    "### I. Data preprocessing\n",
    "\n",
    "To answer this question, I first combine the dataframe with sentences predicted to be either negative or positive and train-validation-test data. "
   ]
  },
  {
   "cell_type": "code",
   "execution_count": 109,
   "metadata": {},
   "outputs": [],
   "source": [
    "# get the summary sentences for training, validation data\n",
    "df_1=df[(df['overall'].isin([5,4,2,1]))][['overall', 'summary', 'reviewerID', 'asin']]\n",
    "# get the rows where the review text with no more than 2 sentences and select the summary sentences and review text for training, validation data\n",
    "df_2=df[(df['overall'].isin([5,4,2,1])) & (df[\"sent_number\"].isin([1,2]))][['overall', 'reviewText', 'reviewerID', 'asin']]"
   ]
  },
  {
   "cell_type": "code",
   "execution_count": 110,
   "metadata": {},
   "outputs": [],
   "source": [
    "# rename the columns to sentences\n",
    "df_1=df_1.rename(columns={'summary':'sentences'})\n",
    "df_2=df_2.rename(columns={'reviewText':'sentences'})\n",
    "\n",
    "# concatenate the two dataframe by row\n",
    "df_full=pd.concat([df_1, df_2], axis=0).dropna()\n",
    "df_full.index=range(df_full.shape[0])\n",
    "\n",
    "# create label from the rating\n",
    "df_full['label']=df_full['overall'].map({5:1,4:1,2:-1,1:-1})"
   ]
  },
  {
   "cell_type": "code",
   "execution_count": 111,
   "metadata": {},
   "outputs": [],
   "source": [
    "df_full['user_product_id']=df_full['reviewerID']+'_'+df_full['asin']"
   ]
  },
  {
   "cell_type": "code",
   "execution_count": 112,
   "metadata": {},
   "outputs": [],
   "source": [
    "df_opinion=pd.concat([df_full[['user_product_id', 'sentences', 'label']], df_pred[df_pred['label']!=0][['user_product_id', 'sentences', 'label']]], axis=0)"
   ]
  },
  {
   "cell_type": "code",
   "execution_count": 113,
   "metadata": {},
   "outputs": [
    {
     "data": {
      "text/html": [
       "<div>\n",
       "<style>\n",
       "    .dataframe thead tr:only-child th {\n",
       "        text-align: right;\n",
       "    }\n",
       "\n",
       "    .dataframe thead th {\n",
       "        text-align: left;\n",
       "    }\n",
       "\n",
       "    .dataframe tbody tr th {\n",
       "        vertical-align: top;\n",
       "    }\n",
       "</style>\n",
       "<table border=\"1\" class=\"dataframe\">\n",
       "  <thead>\n",
       "    <tr style=\"text-align: right;\">\n",
       "      <th></th>\n",
       "      <th>user_product_id</th>\n",
       "      <th>sentences</th>\n",
       "      <th>label</th>\n",
       "    </tr>\n",
       "  </thead>\n",
       "  <tbody>\n",
       "    <tr>\n",
       "      <th>0</th>\n",
       "      <td>A3AUGQNG5EYQ1Y_B000053136</td>\n",
       "      <td>Can't decide if I should dump the rest or just...</td>\n",
       "      <td>-1</td>\n",
       "    </tr>\n",
       "    <tr>\n",
       "      <th>1</th>\n",
       "      <td>A2WI4GOCOOF3PK_B000053136</td>\n",
       "      <td>Melatonin luquid</td>\n",
       "      <td>1</td>\n",
       "    </tr>\n",
       "    <tr>\n",
       "      <th>2</th>\n",
       "      <td>A3I6PVPLOWPPS2_B000053136</td>\n",
       "      <td>strong smell, mixes well into dark juice</td>\n",
       "      <td>1</td>\n",
       "    </tr>\n",
       "    <tr>\n",
       "      <th>3</th>\n",
       "      <td>A31TSQ6L9VS073_B000053136</td>\n",
       "      <td>Works great</td>\n",
       "      <td>1</td>\n",
       "    </tr>\n",
       "    <tr>\n",
       "      <th>4</th>\n",
       "      <td>AF30W6VYOTF7H_B000053136</td>\n",
       "      <td>It really does help!</td>\n",
       "      <td>1</td>\n",
       "    </tr>\n",
       "  </tbody>\n",
       "</table>\n",
       "</div>"
      ],
      "text/plain": [
       "             user_product_id  \\\n",
       "0  A3AUGQNG5EYQ1Y_B000053136   \n",
       "1  A2WI4GOCOOF3PK_B000053136   \n",
       "2  A3I6PVPLOWPPS2_B000053136   \n",
       "3  A31TSQ6L9VS073_B000053136   \n",
       "4   AF30W6VYOTF7H_B000053136   \n",
       "\n",
       "                                           sentences  label  \n",
       "0  Can't decide if I should dump the rest or just...     -1  \n",
       "1                                   Melatonin luquid      1  \n",
       "2           strong smell, mixes well into dark juice      1  \n",
       "3                                        Works great      1  \n",
       "4                               It really does help!      1  "
      ]
     },
     "execution_count": 113,
     "metadata": {},
     "output_type": "execute_result"
    }
   ],
   "source": [
    "df_opinion.head(5)"
   ]
  },
  {
   "cell_type": "markdown",
   "metadata": {},
   "source": [
    "### II. Extracting phrases\n",
    "\n",
    "A sentence is defined as a representative sentence if it contains at least one phrase a reviewer would use when comment on the product. An example of a representative sentence can be \"It taste good and help me fall asleep\", where \"taste good\" and \"fall asleep\" can be two phrases a reviewer use to comment on a sleep aid product. \n",
    "\n",
    "Therefore, the first important thing is to identify the meaningful phrases. There are different ways that peoeple use to define phrases. Here I use likelihood ratio test to determine the likelihood that two words form a phrase intead of appearing together by chance. \n",
    "\n",
    "First I will write two functions to extract the meaningful phrases: \n",
    "\n",
    "Function Likelihood_ratio_test: a function that return the ratio of likelihood that two words are assocaited with each other as a bigram over the likelihood that two words appear as a bigram by chance, given the bigram and the sparse matrix of word counts as the input."
   ]
  },
  {
   "cell_type": "code",
   "execution_count": 115,
   "metadata": {},
   "outputs": [],
   "source": [
    "from scipy.stats import binom\n",
    "\n",
    "\"\"\"This is a function that return the ratio of likelihood that two words are \n",
    "assocaited with each other over the likelihood that two words appear \n",
    "together by chance\n",
    "the arguments of this fuction:\n",
    "bigram: a desired bigram that the likelihood ratio is calculated for\n",
    "count_df: a countvectorized dataframe with unigrams and bigrams as the columns\n",
    "order: whether the order that two words appear in a bigram matters. \n",
    "       It is set at true if we are looking at a specific order: \"good taste\" different from \"taste good\"\n",
    "       and false if we do not care about the order: \"good taste\" same as \"taste good\"\n",
    "\"\"\"\n",
    "\n",
    "def Likelihood_ratio_test(bigram, count_df):\n",
    "    w1=bigram.split(' ')[0]\n",
    "    w2=bigram.split(' ')[1]\n",
    "\n",
    "    n1=count_df[w1].sum()\n",
    "    n2=count_df[w2].sum()\n",
    "    \n",
    "    n12=count_df[bigram].sum()\n",
    "    \n",
    "    # the number of single words\n",
    "    N=count_df[[c for c in count_df.columns if ' ' not in c]].values.sum()\n",
    "    # construct elements to calculate the likelihood ratio under null hypothesis: R0\n",
    "    p00=float(n2)/N      # probability that w2 appears given appearance of w1 under null hypothesis\n",
    "    p01=float(n2)/N       # probability that w2 appears without appearance of w1 under null hypothesis\n",
    "    L0_w1_w2=binom.pmf(n12, n2, p00)           # likelihood that w1 and w2 appears togehter under null hypothesis\n",
    "    L0_w1_no_w2=binom.pmf(n2-n12, N-n1, p01)    # likelihood that w2 appears WITHOUT w1 under null hypothesis\n",
    "    R0=L0_w1_w2/L0_w1_no_w2                     # likelihood ratio under null hypothesis\n",
    "    \n",
    "    # construct elements to calculate the likelihood ratio under alternative hypothesis: R1\n",
    "    p10=float(n12)/n1    # observed probability that w2 appears given appearance of w1\n",
    "    p11=float(n2-n12)/(N-n1)  #observed probability that w2 appears without w1\n",
    "    \n",
    "    L1_w1_w2=binom.pmf(n12, n2, p10)            # likelihood that w1 and w2 appears togehter under alternative hypothesis\n",
    "    L1_w1_no_w2=binom.pmf(n2-n12, N-n1, p11)    # likelihood that w2 appears WITHOUT w1 under alternative hypothesis\n",
    "    R1=L1_w1_w2/L1_w1_no_w2                     # likelihood ratio under alternative hypothesis\n",
    "    \n",
    "    R_H1_H0=R1/R0                 # ratio of likelihood ratio of alternative hypothesis and null hypothesis\n",
    "    return (R_H1_H0)\n"
   ]
  },
  {
   "cell_type": "code",
   "execution_count": 182,
   "metadata": {},
   "outputs": [],
   "source": [
    "\"\"\"This is a function that construct a dataframe with one column as the first word of a bigram, \n",
    "   one column for the second word of a bigram and the likelihood ratio that the two words are associated with each other\n",
    "   over the likelihood that they appear togher by chance. \n",
    "   \n",
    "   The input is the text (or corpus) which will be used to construct the sparse matrix of counts of single words and bigrams\n",
    "   \n",
    "   The sparse matrix and a specific bigram will then be passed onto Likelihood_ratio_test function to calculate the likelihood ratio\n",
    "\"\"\"\n",
    "from sklearn.feature_extraction.text import CountVectorizer \n",
    "\n",
    "def Allletters(string):\n",
    "    checkstring='ABCDEFGHIJKLMNOPQRSTUVWXYZabcdefghijklmnopqrstuvwxyz '\n",
    "    return (all([s in checkstring for s in string]))\n",
    "\n",
    "def Bigrams_likelihoods_df(text):\n",
    "    vect=CountVectorizer(ngram_range=(1, 2))\n",
    "    count_matrix=vect.fit_transform(text)\n",
    "    #print (count_matrix)\n",
    "    count_df=pd.DataFrame(count_matrix.toarray())\n",
    "    count_df.columns=vect.get_feature_names()\n",
    "    count_df=count_df[[c for c in count_df.columns if Allletters(c)]]\n",
    "    bigram_likelihoods=list()\n",
    "    for c in count_df.columns:\n",
    "        if ' ' in c:\n",
    "            w1=c.split()[0]\n",
    "            w2=c.split()[1]\n",
    "            \n",
    "            ratio=Likelihood_ratio_test(c, count_df)\n",
    "            bigram_likelihoods.append((w1, w2, w1+' '+w2, ratio))\n",
    "    likelihood_df=pd.DataFrame(bigram_likelihoods, columns=['w1', 'w2', 'bigram', 'likelihood'])\n",
    "    return (likelihood_df)"
   ]
  },
  {
   "cell_type": "code",
   "execution_count": 244,
   "metadata": {},
   "outputs": [],
   "source": [
    "import nltk\n",
    "from nltk.corpus import stopwords\n",
    "from nltk import ngrams, Tree\n",
    "from nltk.stem.wordnet import WordNetLemmatizer\n",
    "import numpy as np\n",
    "import re\n",
    "\n",
    "\"\"\"functions to extract meaningfuly phrases\"\"\"\n",
    "\"\"\"\n",
    "Pattern 1: <JJ|JJR|JJS>+<NN|NNS>               exp: good sleep, strong taste\n",
    "Pattern 2: <JJ|JJR|JJS>+<NN|NNS>+<NN|NNS>      exp: long sleep hours\n",
    "Pattern 3: <NN|NNS>+<NN|NNS>                   exp: sleep time\n",
    "Pattern 4: NN/NNS+RB/RBR/RBP+JJ                exp: taste very strong (was or is removed because they are stop words)\n",
    "Pattern 5: <RB|RBR|RBS>+<JJ>+<NN|NNS>          exp: highly recommended product\n",
    "Pattern 6: <RB|RBR|RBS>+<VB|VBD|VBG|VBN|VBP|VBZ>  exp: quickly wake up\n",
    "Pattern 7: <VB|VBD|VBG|VBN|VBP|VBZ>+<RB|RBR|RBS>  exp:sleep well\n",
    "Pattern 8: <RB|RBR|RBS>+<VB|VBD|VBG|VBN|VBP|VBZ>+<RB|RBR|RBS>  exp:not sleep well\n",
    "Pattern 9: <VB|VBD|VBG|VBN|VBP|VBZ>+<NN|NNS>      exp: have dreams\n",
    "\"\"\"\n",
    "\n",
    "def Phrase_set(terms):\n",
    "    return (terms[[sum([s in t for t in terms])==1 for s in terms]])\n",
    "\n",
    "def Chunk_to_term(chunked, label):\n",
    "    terms=list()\n",
    "    for node in chunked:\n",
    "        if isinstance(node, Tree):               \n",
    "            if node.label() == label:\n",
    "                term=' '.join(node[n][0] for n in range(len(node)))\n",
    "                terms.append(term)\n",
    "    return (terms)\n",
    "\n",
    "def Phrases(text):\n",
    "    stop = set(stopwords.words('english'))-set(['not'])\n",
    "    terms=list()\n",
    "    words = nltk.word_tokenize(text)\n",
    "    tagged = nltk.pos_tag(words)\n",
    "    tagged=[tup for tup in tagged if tup[0] not in stop]\n",
    "    \n",
    "    try:\n",
    "        chunk1=r\"\"\"Chunk: {<JJ|JJR|JJS>+<NN|NNS>}\"\"\"\n",
    "        chunk2=r\"\"\"Chunk: {<JJ|JJR|JJS>+<NN|NNS>+<NN|NNS>}\"\"\"\n",
    "        chunk3=r\"\"\"Chunk: {<NN|NNS>+<NN|NNS>}\"\"\"\n",
    "        chunk4=r\"\"\"Chunk: {<RB|RBR|RBS>+<NN|NNS>+<NN|NNS>}\"\"\"\n",
    "        chunk5=r\"\"\"Chunk: {<RB|RBR|RBS>+<JJJ|JJR|JJS>+<NN|NNS>}\"\"\"\n",
    "        \n",
    "        chunk6=r\"\"\"Chunk: {<NN|NNS>+<JJ|JJR|JJS>}\"\"\"\n",
    "        chunk7=r\"\"\"Chunk: {<NN|NNS>+<RB|RBR|RBS>}\"\"\"\n",
    "        chunk8=r\"\"\"Chunk: {<NN|NNS>+<RB|RBR|RBS>+<JJ|JJR|JJS>}\"\"\"\n",
    "                \n",
    "        chunk9=r\"\"\"Chunk: {<RB|RBR|RBS>+<VB|VBD|VBG|VBN|VBP|VBZ>}\"\"\"\n",
    "        chunk10=r\"\"\"Chunk: {<VB|VBD|VBG|VBN|VBP|VBZ>+<RB|RBR|RBS>}\"\"\"\n",
    "        chunk11=r\"\"\"Chunk: {<RB|RBR|RBS>+<VB|VBD|VBG|VBN|VBP|VBZ>+<RB|RBR|RBS>}\"\"\"\n",
    "        \n",
    "        chunk12=r\"\"\"Chunk: {<VB|VBD|VBG|VBN|VBP|VBZ>+<NN|NNS>}\"\"\"\n",
    "        chunk13=r\"\"\"Chunk: {<RB|RBR|RBS>+<VB|VBD|VBG|VBN|VBP|VBZ>+<NN|NNS>}\"\"\"\n",
    "        chunks=[chunk1,chunk2,chunk3,chunk4,chunk5,chunk6,chunk7,chunk8, \n",
    "                chunk9, chunk10, chunk11, chunk12,chunk13]\n",
    "        for chunk in chunks:\n",
    "            chunkParser = nltk.RegexpParser(chunk)\n",
    "            chunked = chunkParser.parse(tagged)\n",
    "            terms.extend(Chunk_to_term(chunked, 'Chunk'))\n",
    "        return (Phrase_set(np.array(terms)))\n",
    "    except Exception as e:\n",
    "        print(str(e))  \n",
    "\n",
    "\"\"\"function to preprocess the text data\"\"\"\n",
    "def Preprocessor(x):\n",
    "    stop = set(stopwords.words('english'))-set(['not'])\n",
    "    \"\"\"list of words with meaning of \"not\" and the form they are to be tranformed into\"\"\"\n",
    "    transform={\n",
    "        \"doesn\\'t\":\"does not\",\n",
    "        'dont':'do not',\n",
    "     'don\\'t':'do not',\n",
    "     'donot':'do not',\n",
    "     'cannot':'can not',\n",
    "     'can\\'t':'can not',\n",
    "     'cant':'can not',\n",
    "     'didnt':'did not',\n",
    "     'didn\\'t':'did not',\n",
    "     'isnt':'is not',\n",
    "     'isn\\'t':'is not',\n",
    "     'arent':'are not',\n",
    "     'aren\\'t':'are not',\n",
    "     'arenot':'are not',\n",
    "     'wasn\\'t':'was not',\n",
    "     'wasnt':'was not',    \n",
    "      'wasnot':'was not',\n",
    "     'weren\\'t':'were not',\n",
    "     'werent':'were not',\n",
    "     'wont':'will not',\n",
    "     'won\\'t':'will not',\n",
    "     'couldnt':'could not',\n",
    "     'couldn\\'t':'could not',\n",
    "     'shouldnt':'should not',\n",
    "     'shouldn\\'t':'should not',\n",
    "     'wouldn\\'t':'would not',\n",
    "     'wouldnt': 'would not',\n",
    "     'hasnt':'has not',\n",
    "     'hasn\\'t':'has not',\n",
    "     'havent':'have not',\n",
    "     'haven\\'t':'have not',\n",
    "     'hadnt':'had not',\n",
    "     'hadn\\'t':'had not',\n",
    "     'gonna':'going to',\n",
    "     'wanna':'want to',\n",
    "        '&':'and',\n",
    "        '|':'or ',\n",
    "        'without':'not with'\n",
    "     }\n",
    "    \n",
    "    x=str(x)\n",
    "    \"\"\"only select letters and transform all letters to be lowercase\"\"\"\n",
    "    x = re.sub('[^A-Za-z,:?!\\']', ' ', x.lower()) \n",
    "    \n",
    "    \"\"\"seperate not from words so that it can be kept for later analysis\"\"\"\n",
    "    x = ' '.join([transform.get(i, i) for i in x.split()])\n",
    "    \n",
    "    \"\"\"spelling correction\"\"\"\n",
    "    x = ' '.join([re.compile(r\"(.)\\1{2,}\").sub(r\"\\1\", w) for w in x.split()])\n",
    "    \n",
    "    \"\"\"remove punctuations\"\"\"\n",
    "    x = re.sub('[^A-Za-z]', ' ', x)  \n",
    "    \n",
    "    \"\"\"remove stopwords from the sentence\"\"\"\n",
    "    x = ' '.join([w for w in x.split() if w not in set(stop)])\n",
    "    \n",
    "    \"\"\"lemmatization\"\"\"\n",
    "    lem=WordNetLemmatizer()\n",
    "    x = ' '.join([lem.lemmatize(w) for w in x.split()])\n",
    "    \n",
    "    return (x)\n",
    "\n",
    "\"\"\"function to preprocess the text data\"\"\"\n",
    "def Extract_terms(x):\n",
    "    stop = set(stopwords.words('english'))-set(['not'])\n",
    "    \"\"\"list of words with meaning of \"not\" and the form they are to be tranformed into\"\"\"\n",
    "    transform={\n",
    "        \"doesn\\'t\":\"does not\",\n",
    "        'dont':'do not',\n",
    "     'don\\'t':'do not',\n",
    "     'donot':'do not',\n",
    "     'cannot':'can not',\n",
    "     'can\\'t':'can not',\n",
    "     'cant':'can not',\n",
    "     'didnt':'did not',\n",
    "     'didn\\'t':'did not',\n",
    "     'isnt':'is not',\n",
    "     'isn\\'t':'is not',\n",
    "     'arent':'are not',\n",
    "     'aren\\'t':'are not',\n",
    "     'arenot':'are not',\n",
    "     'wasn\\'t':'was not',\n",
    "     'wasnt':'was not',    \n",
    "      'wasnot':'was not',\n",
    "     'weren\\'t':'were not',\n",
    "     'werent':'were not',\n",
    "     'wont':'will not',\n",
    "     'won\\'t':'will not',\n",
    "     'couldnt':'could not',\n",
    "     'couldn\\'t':'could not',\n",
    "     'shouldnt':'should not',\n",
    "     'shouldn\\'t':'should not',\n",
    "     'wouldn\\'t':'would not',\n",
    "     'wouldnt': 'would not',\n",
    "     'hasnt':'has not',\n",
    "     'hasn\\'t':'has not',\n",
    "     'havent':'have not',\n",
    "     'haven\\'t':'have not',\n",
    "     'hadnt':'had not',\n",
    "     'hadn\\'t':'had not',\n",
    "     'gonna':'going to',\n",
    "     'wanna':'want to',\n",
    "     '&':'and',\n",
    "     '|':'or ',\n",
    "     'without':'not with'\n",
    "     }\n",
    "    \n",
    "    x=str(x)\n",
    "    \"\"\"seperate not from words so that it can be kept for later analysis\"\"\"\n",
    "    x = ' '.join([transform.get(i, i) for i in x.split()])\n",
    "    \n",
    "    \"\"\"spelling correction\"\"\"\n",
    "    x = ' '.join([re.compile(r\"(.)\\1{2,}\").sub(r\"\\1\\1\", w) for w in x.split()])\n",
    "  \n",
    "    \"\"\"generate chunked terms without stop words\"\"\"\n",
    "    terms=Phrases(x)\n",
    "    terms_set=Phrase_set(np.array(terms))\n",
    "    terms_set=[re.sub('[^A-Za-z]', ' ', s.lower()) for s in terms_set]\n",
    "\n",
    "    lem=WordNetLemmatizer()\n",
    "    terms_set=[' '.join([lem.lemmatize(w) for w in t.split(' ')]) for t in terms_set]\n",
    "    \n",
    "    \n",
    "    return (terms_set)\n",
    "\n",
    "def Preprocessor_with_punc_stop(x):  \n",
    "    \"\"\"list of words with meaning of \"not\" and the form they are to be tranformed into\"\"\"\n",
    "    transform={\n",
    "     \"doesn\\'t\":\"does not\",\n",
    "     'dont':'do not',\n",
    "     'don\\'t':'do not',\n",
    "     'donot':'do not',\n",
    "     'cannot':'can not',\n",
    "     'can\\'t':'can not',\n",
    "     'cant':'can not',\n",
    "     'didnt':'did not',\n",
    "     'didn\\'t':'did not',\n",
    "     'isnt':'is not',\n",
    "     'isn\\'t':'is not',\n",
    "     'arent':'are not',\n",
    "     'aren\\'t':'are not',\n",
    "     'arenot':'are not',\n",
    "     'wasn\\'t':'was not',\n",
    "     'wasnt':'was not',    \n",
    "     'wasnot':'was not',\n",
    "     'weren\\'t':'were not',\n",
    "     'werent':'were not',\n",
    "     'wont':'will not',\n",
    "     'won\\'t':'will not',\n",
    "     'couldnt':'could not',\n",
    "     'couldn\\'t':'could not',\n",
    "     'shouldnt':'should not',\n",
    "     'shouldn\\'t':'should not',\n",
    "     'wouldn\\'t':'would not',\n",
    "     'wouldnt': 'would not',\n",
    "     'hasnt':'has not',\n",
    "     'hasn\\'t':'has not',\n",
    "     'havent':'have not',\n",
    "     'haven\\'t':'have not',\n",
    "     'hadnt':'had not',\n",
    "     'hadn\\'t':'had not',\n",
    "     'gonna':'going to',\n",
    "     'wanna':'want to',\n",
    "     'it\\'s':'it is',\n",
    "     'he\\'s':'he is',\n",
    "     'she\\'s':'she is',\n",
    "        '&':'and',\n",
    "        '|':'or ',\n",
    "        'without':'not with'\n",
    "     }\n",
    "    \n",
    "    x=str(x)\n",
    "    \n",
    "    \n",
    "    \"\"\"only select letters and transform all letters to be lowercase\"\"\"\n",
    "    x = re.sub('[^A-Za-z,.:?!\\'&|]', ' ', x.lower()) \n",
    "    \n",
    "    \"\"\"seperate not from words so that it can be kept for later analysis\"\"\"\n",
    "    x = ' '.join([transform.get(i, i) for i in x.split()])\n",
    "    \n",
    "    \"\"\"spelling correction\"\"\"\n",
    "    x = ' '.join([re.compile(r\"(.)\\1{2,}\").sub(r\"\\1\\1\", w) for w in x.split()])    \n",
    "      \n",
    "    \"\"\"add spaces after punctuation to ensure appropriate work tokenization\"\"\"\n",
    "    x=re.sub(r'(?<=[.,?!:])(?=[^\\s])', r' ', x)\n",
    "\n",
    "    \"\"\"lemmatization\"\"\"\n",
    "    \n",
    "    lem=WordNetLemmatizer()\n",
    "    x = ' '.join([lem.lemmatize(w) for w in x.split()])\n",
    "    \n",
    "    return (x)\n",
    "    \n"
   ]
  },
  {
   "cell_type": "code",
   "execution_count": 118,
   "metadata": {},
   "outputs": [
    {
     "ename": "ImportError",
     "evalue": "cannot import name 'Preprocessor_with_punc'",
     "output_type": "error",
     "traceback": [
      "\u001b[1;31m---------------------------------------------------------------------------\u001b[0m",
      "\u001b[1;31mImportError\u001b[0m                               Traceback (most recent call last)",
      "\u001b[1;32m<ipython-input-118-e3fee121c10f>\u001b[0m in \u001b[0;36m<module>\u001b[1;34m()\u001b[0m\n\u001b[1;32m----> 1\u001b[1;33m \u001b[1;32mfrom\u001b[0m \u001b[0mPreprocess\u001b[0m \u001b[1;32mimport\u001b[0m \u001b[0mPreprocessor_with_punc\u001b[0m\u001b[1;33m,\u001b[0m \u001b[0mPhrases\u001b[0m\u001b[1;33m,\u001b[0m \u001b[0mPhrase_set\u001b[0m\u001b[1;33m\u001b[0m\u001b[0m\n\u001b[0m",
      "\u001b[1;31mImportError\u001b[0m: cannot import name 'Preprocessor_with_punc'"
     ]
    }
   ],
   "source": [
    "from Preprocess import Preprocessor_with_punc, Phrases, Phrase_set"
   ]
  },
  {
   "cell_type": "markdown",
   "metadata": {},
   "source": [
    "Let's take a look at how a sentence is preprocessed"
   ]
  },
  {
   "cell_type": "code",
   "execution_count": 251,
   "metadata": {},
   "outputs": [
    {
     "name": "stdout",
     "output_type": "stream",
     "text": [
      "original sentence:  Has really helped\n",
      "after processed:  ha really helped\n",
      "extracted phrases:  ['ha really' 'really helped']\n",
      "\n",
      "\n",
      "original sentence:  Sometimes wierd side effects\n",
      "after processed:  sometimes wierd side effect\n",
      "extracted phrases:  ['wierd side effect']\n",
      "\n",
      "\n",
      "original sentence:  Works well for my husband and I.\n",
      "after processed:  work well for my husband and i.\n",
      "extracted phrases:  ['work well']\n",
      "\n",
      "\n",
      "original sentence:  Source Naturals Melatonin 2.5mg, Peppermint, 240 Tablets\n",
      "after processed:  source natural melatonin . mg, peppermint, tablet\n",
      "extracted phrases:  ['natural melatonin' 'source natural']\n",
      "\n",
      "\n",
      "original sentence:  use it nightly\n",
      "after processed:  use it nightly\n",
      "extracted phrases:  ['use nightly']\n",
      "\n",
      "\n"
     ]
    }
   ],
   "source": [
    "for idx in [18, 43, 72, 88, 105]:\n",
    "    print (\"original sentence: \", df_opinion.iloc[idx]['sentences'])\n",
    "    print (\"after processed: \", Preprocessor_with_punc_stop(df_opinion.iloc[idx]['sentences']))\n",
    "    print ('extracted phrases: ', Phrases(Preprocessor_with_punc_stop(df_opinion.iloc[idx]['sentences'])))\n",
    "    print ('\\n')"
   ]
  },
  {
   "cell_type": "code",
   "execution_count": 252,
   "metadata": {},
   "outputs": [
    {
     "ename": "TypeError",
     "evalue": "Preprocessor_with_punc_stop() got an unexpected keyword argument 'lemmatize'",
     "output_type": "error",
     "traceback": [
      "\u001b[1;31m---------------------------------------------------------------------------\u001b[0m",
      "\u001b[1;31mTypeError\u001b[0m                                 Traceback (most recent call last)",
      "\u001b[1;32m<ipython-input-252-760c19a86078>\u001b[0m in \u001b[0;36m<module>\u001b[1;34m()\u001b[0m\n\u001b[1;32m----> 1\u001b[1;33m \u001b[0mdf_opinion\u001b[0m\u001b[1;33m[\u001b[0m\u001b[1;34m'text'\u001b[0m\u001b[1;33m]\u001b[0m\u001b[1;33m=\u001b[0m\u001b[0mdf_opinion\u001b[0m\u001b[1;33m[\u001b[0m\u001b[1;34m'sentences'\u001b[0m\u001b[1;33m]\u001b[0m\u001b[1;33m.\u001b[0m\u001b[0mapply\u001b[0m\u001b[1;33m(\u001b[0m\u001b[0mPreprocessor_with_punc_stop\u001b[0m\u001b[1;33m(\u001b[0m\u001b[0mlemmatize\u001b[0m\u001b[1;33m=\u001b[0m\u001b[1;32mTrue\u001b[0m\u001b[1;33m)\u001b[0m\u001b[1;33m)\u001b[0m\u001b[1;33m\u001b[0m\u001b[0m\n\u001b[0m",
      "\u001b[1;31mTypeError\u001b[0m: Preprocessor_with_punc_stop() got an unexpected keyword argument 'lemmatize'"
     ]
    }
   ],
   "source": [
    "df_opinion['text']=df_opinion['sentences'].apply(Preprocessor_with_punc_stop(lemmatize=True))"
   ]
  },
  {
   "cell_type": "code",
   "execution_count": null,
   "metadata": {},
   "outputs": [],
   "source": [
    "df_opinion['phrases']=df_opinion['text'].apply(lambda t: Phrase_set(np.array(Phrases(t))))"
   ]
  },
  {
   "cell_type": "code",
   "execution_count": null,
   "metadata": {},
   "outputs": [],
   "source": [
    "df_opinion['phrases']=df_opinion['phrases'].apply(list)"
   ]
  },
  {
   "cell_type": "code",
   "execution_count": null,
   "metadata": {},
   "outputs": [],
   "source": [
    "df_opinion['asin']=df_full['user_product_id'].apply(lambda s:s.split('_')[1])"
   ]
  },
  {
   "cell_type": "code",
   "execution_count": null,
   "metadata": {},
   "outputs": [],
   "source": [
    "negative=df_opinion.groupby(['label']).agg({'text':'. '.join}).loc[-1]\n",
    "positive=df_opinion.groupby(['label']).agg({'text':'. '.join}).loc[1]"
   ]
  },
  {
   "cell_type": "code",
   "execution_count": null,
   "metadata": {},
   "outputs": [],
   "source": [
    "negative_chunks=df_opinion.groupby(['label']).agg({'phrases':'sum'}).loc[-1]\n",
    "positive_chunks=df_opinion.groupby(['label']).agg({'phrases':'sum'}).loc[1]"
   ]
  },
  {
   "cell_type": "code",
   "execution_count": 255,
   "metadata": {},
   "outputs": [
    {
     "name": "stderr",
     "output_type": "stream",
     "text": [
      "C:\\anaconda\\lib\\site-packages\\ipykernel_launcher.py:40: RuntimeWarning: divide by zero encountered in double_scalars\n",
      "C:\\anaconda\\lib\\site-packages\\ipykernel_launcher.py:40: RuntimeWarning: invalid value encountered in double_scalars\n"
     ]
    }
   ],
   "source": [
    "negative_phrases=Bigrams_likelihoods_df(negative)\n",
    "positive_phrases=Bigrams_likelihoods_df(positive)"
   ]
  },
  {
   "cell_type": "code",
   "execution_count": 253,
   "metadata": {},
   "outputs": [],
   "source": [
    "def Find_chunks(phrase, chunks):\n",
    "    return (list(set([c for c in chunks if phrase in c])))"
   ]
  },
  {
   "cell_type": "code",
   "execution_count": 256,
   "metadata": {},
   "outputs": [],
   "source": [
    "negative_phrases['chunks']=negative_phrases['bigram'].apply(lambda t:Find_chunks(t, negative_chunks['phrases']))\n",
    "positive_phrases['chunks']=positive_phrases['bigram'].apply(lambda t:Find_chunks(t, positive_chunks['phrases']))"
   ]
  },
  {
   "cell_type": "code",
   "execution_count": 257,
   "metadata": {},
   "outputs": [],
   "source": [
    "negative_phrases=negative_phrases[negative_phrases['chunks'].apply(len)>=1]\n",
    "positive_phrases=positive_phrases[positive_phrases['chunks'].apply(len)>=1]"
   ]
  },
  {
   "cell_type": "code",
   "execution_count": 258,
   "metadata": {},
   "outputs": [],
   "source": [
    "from nltk.corpus import stopwords\n",
    "\n",
    "stop = set(stopwords.words('english'))-set(['not'])\n",
    "negative_phrases=negative_phrases[~(negative_phrases['w1'].isin(stop)|negative_phrases['w2'].isin(stop))].sort_values('likelihood', ascending=False)\n",
    "positive_phrases=positive_phrases[~(positive_phrases['w1'].isin(stop)|positive_phrases['w2'].isin(stop))].sort_values('likelihood', ascending=False)"
   ]
  },
  {
   "cell_type": "code",
   "execution_count": 259,
   "metadata": {
    "scrolled": true
   },
   "outputs": [
    {
     "name": "stdout",
     "output_type": "stream",
     "text": [
      "top 30 bigrams found in negative comments:\n",
      "\n",
      "              bigram    likelihood\n",
      "12534       not work           inf\n",
      "12170       not help  4.594080e+70\n",
      "5663     fall asleep  2.120160e+68\n",
      "1410    anything not  1.769477e+67\n",
      "12278        not not  3.918912e+65\n",
      "15882   side effects  2.840317e+56\n",
      "17611      taste not  4.025552e+55\n",
      "11657      night not  5.350249e+54\n",
      "5918        find not  1.617184e+54\n",
      "17115      strap not  1.054834e+53\n",
      "18934      think not  3.958870e+52\n",
      "12221       not like  1.248547e+52\n",
      "18894      thing not  9.385651e+49\n",
      "12208       not know  5.681983e+48\n",
      "14578    product not  5.695425e+47\n",
      "21151       well not  2.455697e+47\n",
      "16028      sleep aid  2.166788e+45\n",
      "21913      work well  1.207669e+44\n",
      "16087     sleep mask  4.446617e+41\n",
      "12443       not sure  1.087599e+41\n",
      "15881    side effect  1.716460e+39\n",
      "12280     not notice  1.420797e+37\n",
      "12127       not feel  1.164237e+33\n",
      "20014     trying not  1.318783e+30\n",
      "4703     dream water  2.443340e+27\n",
      "22101       year old  3.381204e+24\n",
      "12498        not use  7.833462e+22\n",
      "15924     simply not  1.032731e+22\n",
      "12426       not stay  1.453739e+21\n",
      "12353  not recommend  7.177878e+20\n",
      "-------------------------------------------\n",
      "\n",
      "top 30 bigrams found in positive comments:\n",
      "\n",
      "                     bigram     likelihood\n",
      "31692            sleep mask            inf\n",
      "11414           fall asleep  3.246981e+215\n",
      "9315                doe not  7.644850e+160\n",
      "9653            dream water  1.111200e+159\n",
      "42706             work well  4.158263e+150\n",
      "14104         great product  1.323021e+150\n",
      "42585            work great  2.313019e+133\n",
      "13766            good night  1.596020e+128\n",
      "9953               ear plug  5.910845e+121\n",
      "18331               jet lag   1.146892e+87\n",
      "9580   doxylamine succinate   1.157488e+69\n",
      "43134              year old   2.807142e+63\n",
      "31081           side effect   1.883415e+62\n",
      "21604              mg sleep   3.214381e+61\n",
      "23419              next day   4.774278e+60\n",
      "13633              go sleep   8.225597e+58\n",
      "37785          time release   5.060111e+58\n",
      "1350             also sleep   3.014924e+58\n",
      "11213             eye sleep   2.554948e+58\n",
      "22415           much better   2.036825e+58\n",
      "34806          taking sleep   1.817079e+58\n",
      "15707      highly recommend   1.002300e+58\n",
      "31449          sleep better   3.258231e+57\n",
      "19310           light sleep   1.140011e+56\n",
      "14441              ha sleep   4.959820e+55\n",
      "29088          really sleep   4.959820e+55\n",
      "28009         problem sleep   1.217887e+54\n",
      "32081         sleeping pill   8.658870e+53\n",
      "31405            sleep aids   4.838075e+53\n",
      "10775            ever sleep   6.442513e+52\n"
     ]
    }
   ],
   "source": [
    "print ('top 30 bigrams found in negative comments:\\n')\n",
    "print (negative_phrases.iloc[:30][['bigram', 'likelihood']])\n",
    "print ('-------------------------------------------\\n')\n",
    "print ('top 30 bigrams found in positive comments:\\n')\n",
    "print (positive_phrases.iloc[:30][['bigram', 'likelihood']])"
   ]
  },
  {
   "cell_type": "markdown",
   "metadata": {},
   "source": [
    "As shown above, there are some overlaps between the phrases from negative comments and phrases from positive comments. It is possible that a \"not\" actually follows these phrases in either group of comments which makes a big difference. But since I only look at the bigrams, I cannot see such difference. Therefore, for the shared bigrams, I keep those in the group of comments where their occurrence has a higher likelihood (ratio). \n",
    "\n",
    "To do this, I first merge the top bigrams from negative comments and positive comments:"
   ]
  },
  {
   "cell_type": "code",
   "execution_count": 260,
   "metadata": {},
   "outputs": [],
   "source": [
    "top_bigrams=pd.merge(negative_phrases.iloc[:30][['bigram', 'likelihood']], positive_phrases.iloc[:30][['bigram', 'likelihood']],  how='outer', \n",
    "                        left_on=['bigram'], right_on = ['bigram'], suffixes=('_neg', '_pos')).fillna(0)"
   ]
  },
  {
   "cell_type": "code",
   "execution_count": 261,
   "metadata": {},
   "outputs": [
    {
     "data": {
      "text/html": [
       "<div>\n",
       "<style>\n",
       "    .dataframe thead tr:only-child th {\n",
       "        text-align: right;\n",
       "    }\n",
       "\n",
       "    .dataframe thead th {\n",
       "        text-align: left;\n",
       "    }\n",
       "\n",
       "    .dataframe tbody tr th {\n",
       "        vertical-align: top;\n",
       "    }\n",
       "</style>\n",
       "<table border=\"1\" class=\"dataframe\">\n",
       "  <thead>\n",
       "    <tr style=\"text-align: right;\">\n",
       "      <th></th>\n",
       "      <th>bigram</th>\n",
       "      <th>likelihood_neg</th>\n",
       "      <th>likelihood_pos</th>\n",
       "    </tr>\n",
       "  </thead>\n",
       "  <tbody>\n",
       "    <tr>\n",
       "      <th>0</th>\n",
       "      <td>not work</td>\n",
       "      <td>inf</td>\n",
       "      <td>0.000000e+00</td>\n",
       "    </tr>\n",
       "    <tr>\n",
       "      <th>1</th>\n",
       "      <td>not help</td>\n",
       "      <td>4.594080e+70</td>\n",
       "      <td>0.000000e+00</td>\n",
       "    </tr>\n",
       "    <tr>\n",
       "      <th>2</th>\n",
       "      <td>fall asleep</td>\n",
       "      <td>2.120160e+68</td>\n",
       "      <td>3.246981e+215</td>\n",
       "    </tr>\n",
       "    <tr>\n",
       "      <th>3</th>\n",
       "      <td>anything not</td>\n",
       "      <td>1.769477e+67</td>\n",
       "      <td>0.000000e+00</td>\n",
       "    </tr>\n",
       "    <tr>\n",
       "      <th>4</th>\n",
       "      <td>not not</td>\n",
       "      <td>3.918912e+65</td>\n",
       "      <td>0.000000e+00</td>\n",
       "    </tr>\n",
       "  </tbody>\n",
       "</table>\n",
       "</div>"
      ],
      "text/plain": [
       "         bigram  likelihood_neg  likelihood_pos\n",
       "0      not work             inf    0.000000e+00\n",
       "1      not help    4.594080e+70    0.000000e+00\n",
       "2   fall asleep    2.120160e+68   3.246981e+215\n",
       "3  anything not    1.769477e+67    0.000000e+00\n",
       "4       not not    3.918912e+65    0.000000e+00"
      ]
     },
     "execution_count": 261,
     "metadata": {},
     "output_type": "execute_result"
    }
   ],
   "source": [
    "top_bigrams.head()"
   ]
  },
  {
   "cell_type": "markdown",
   "metadata": {},
   "source": [
    "Then I categorize a phrase as either positive or negative by comparing their likelihood of appearing in negative comments (likelihood_neg) and in positive comments (likelihood_pos):"
   ]
  },
  {
   "cell_type": "code",
   "execution_count": 265,
   "metadata": {},
   "outputs": [],
   "source": [
    "negative_bigrams=top_bigrams[top_bigrams['likelihood_neg']>top_bigrams['likelihood_pos']][['bigram', 'likelihood_neg']].rename({'likelihood_neg':'likelihood'})\n",
    "positive_bigrams=top_bigrams[top_bigrams['likelihood_neg']<top_bigrams['likelihood_pos']][['bigram', 'likelihood_pos']].rename({'likelihood_pos':'likelihood'})"
   ]
  },
  {
   "cell_type": "code",
   "execution_count": 273,
   "metadata": {},
   "outputs": [
    {
     "data": {
      "text/html": [
       "<div>\n",
       "<style>\n",
       "    .dataframe thead tr:only-child th {\n",
       "        text-align: right;\n",
       "    }\n",
       "\n",
       "    .dataframe thead th {\n",
       "        text-align: left;\n",
       "    }\n",
       "\n",
       "    .dataframe tbody tr th {\n",
       "        vertical-align: top;\n",
       "    }\n",
       "</style>\n",
       "<table border=\"1\" class=\"dataframe\">\n",
       "  <thead>\n",
       "    <tr style=\"text-align: right;\">\n",
       "      <th></th>\n",
       "      <th>bigram</th>\n",
       "      <th>likelihood_neg</th>\n",
       "    </tr>\n",
       "  </thead>\n",
       "  <tbody>\n",
       "    <tr>\n",
       "      <th>0</th>\n",
       "      <td>not work</td>\n",
       "      <td>inf</td>\n",
       "    </tr>\n",
       "    <tr>\n",
       "      <th>1</th>\n",
       "      <td>not help</td>\n",
       "      <td>4.594080e+70</td>\n",
       "    </tr>\n",
       "    <tr>\n",
       "      <th>3</th>\n",
       "      <td>anything not</td>\n",
       "      <td>1.769477e+67</td>\n",
       "    </tr>\n",
       "    <tr>\n",
       "      <th>4</th>\n",
       "      <td>not not</td>\n",
       "      <td>3.918912e+65</td>\n",
       "    </tr>\n",
       "    <tr>\n",
       "      <th>5</th>\n",
       "      <td>side effects</td>\n",
       "      <td>2.840317e+56</td>\n",
       "    </tr>\n",
       "    <tr>\n",
       "      <th>6</th>\n",
       "      <td>taste not</td>\n",
       "      <td>4.025552e+55</td>\n",
       "    </tr>\n",
       "    <tr>\n",
       "      <th>7</th>\n",
       "      <td>night not</td>\n",
       "      <td>5.350249e+54</td>\n",
       "    </tr>\n",
       "    <tr>\n",
       "      <th>8</th>\n",
       "      <td>find not</td>\n",
       "      <td>1.617184e+54</td>\n",
       "    </tr>\n",
       "    <tr>\n",
       "      <th>9</th>\n",
       "      <td>strap not</td>\n",
       "      <td>1.054834e+53</td>\n",
       "    </tr>\n",
       "    <tr>\n",
       "      <th>10</th>\n",
       "      <td>think not</td>\n",
       "      <td>3.958870e+52</td>\n",
       "    </tr>\n",
       "    <tr>\n",
       "      <th>11</th>\n",
       "      <td>not like</td>\n",
       "      <td>1.248547e+52</td>\n",
       "    </tr>\n",
       "    <tr>\n",
       "      <th>12</th>\n",
       "      <td>thing not</td>\n",
       "      <td>9.385651e+49</td>\n",
       "    </tr>\n",
       "    <tr>\n",
       "      <th>13</th>\n",
       "      <td>not know</td>\n",
       "      <td>5.681983e+48</td>\n",
       "    </tr>\n",
       "    <tr>\n",
       "      <th>14</th>\n",
       "      <td>product not</td>\n",
       "      <td>5.695425e+47</td>\n",
       "    </tr>\n",
       "    <tr>\n",
       "      <th>15</th>\n",
       "      <td>well not</td>\n",
       "      <td>2.455697e+47</td>\n",
       "    </tr>\n",
       "    <tr>\n",
       "      <th>16</th>\n",
       "      <td>sleep aid</td>\n",
       "      <td>2.166788e+45</td>\n",
       "    </tr>\n",
       "    <tr>\n",
       "      <th>19</th>\n",
       "      <td>not sure</td>\n",
       "      <td>1.087599e+41</td>\n",
       "    </tr>\n",
       "    <tr>\n",
       "      <th>21</th>\n",
       "      <td>not notice</td>\n",
       "      <td>1.420797e+37</td>\n",
       "    </tr>\n",
       "    <tr>\n",
       "      <th>22</th>\n",
       "      <td>not feel</td>\n",
       "      <td>1.164237e+33</td>\n",
       "    </tr>\n",
       "    <tr>\n",
       "      <th>23</th>\n",
       "      <td>trying not</td>\n",
       "      <td>1.318783e+30</td>\n",
       "    </tr>\n",
       "    <tr>\n",
       "      <th>26</th>\n",
       "      <td>not use</td>\n",
       "      <td>7.833462e+22</td>\n",
       "    </tr>\n",
       "    <tr>\n",
       "      <th>27</th>\n",
       "      <td>simply not</td>\n",
       "      <td>1.032731e+22</td>\n",
       "    </tr>\n",
       "    <tr>\n",
       "      <th>28</th>\n",
       "      <td>not stay</td>\n",
       "      <td>1.453739e+21</td>\n",
       "    </tr>\n",
       "    <tr>\n",
       "      <th>29</th>\n",
       "      <td>not recommend</td>\n",
       "      <td>7.177878e+20</td>\n",
       "    </tr>\n",
       "  </tbody>\n",
       "</table>\n",
       "</div>"
      ],
      "text/plain": [
       "           bigram  likelihood_neg\n",
       "0        not work             inf\n",
       "1        not help    4.594080e+70\n",
       "3    anything not    1.769477e+67\n",
       "4         not not    3.918912e+65\n",
       "5    side effects    2.840317e+56\n",
       "6       taste not    4.025552e+55\n",
       "7       night not    5.350249e+54\n",
       "8        find not    1.617184e+54\n",
       "9       strap not    1.054834e+53\n",
       "10      think not    3.958870e+52\n",
       "11       not like    1.248547e+52\n",
       "12      thing not    9.385651e+49\n",
       "13       not know    5.681983e+48\n",
       "14    product not    5.695425e+47\n",
       "15       well not    2.455697e+47\n",
       "16      sleep aid    2.166788e+45\n",
       "19       not sure    1.087599e+41\n",
       "21     not notice    1.420797e+37\n",
       "22       not feel    1.164237e+33\n",
       "23     trying not    1.318783e+30\n",
       "26        not use    7.833462e+22\n",
       "27     simply not    1.032731e+22\n",
       "28       not stay    1.453739e+21\n",
       "29  not recommend    7.177878e+20"
      ]
     },
     "execution_count": 273,
     "metadata": {},
     "output_type": "execute_result"
    }
   ],
   "source": [
    "negative_bigrams.sort_values('likelihood_neg', ascending=False).iloc[:30]"
   ]
  },
  {
   "cell_type": "code",
   "execution_count": 271,
   "metadata": {},
   "outputs": [
    {
     "data": {
      "text/html": [
       "<div>\n",
       "<style>\n",
       "    .dataframe thead tr:only-child th {\n",
       "        text-align: right;\n",
       "    }\n",
       "\n",
       "    .dataframe thead th {\n",
       "        text-align: left;\n",
       "    }\n",
       "\n",
       "    .dataframe tbody tr th {\n",
       "        vertical-align: top;\n",
       "    }\n",
       "</style>\n",
       "<table border=\"1\" class=\"dataframe\">\n",
       "  <thead>\n",
       "    <tr style=\"text-align: right;\">\n",
       "      <th></th>\n",
       "      <th>bigram</th>\n",
       "      <th>likelihood_pos</th>\n",
       "    </tr>\n",
       "  </thead>\n",
       "  <tbody>\n",
       "    <tr>\n",
       "      <th>18</th>\n",
       "      <td>sleep mask</td>\n",
       "      <td>inf</td>\n",
       "    </tr>\n",
       "    <tr>\n",
       "      <th>2</th>\n",
       "      <td>fall asleep</td>\n",
       "      <td>3.246981e+215</td>\n",
       "    </tr>\n",
       "    <tr>\n",
       "      <th>30</th>\n",
       "      <td>doe not</td>\n",
       "      <td>7.644850e+160</td>\n",
       "    </tr>\n",
       "    <tr>\n",
       "      <th>24</th>\n",
       "      <td>dream water</td>\n",
       "      <td>1.111200e+159</td>\n",
       "    </tr>\n",
       "    <tr>\n",
       "      <th>17</th>\n",
       "      <td>work well</td>\n",
       "      <td>4.158263e+150</td>\n",
       "    </tr>\n",
       "    <tr>\n",
       "      <th>31</th>\n",
       "      <td>great product</td>\n",
       "      <td>1.323021e+150</td>\n",
       "    </tr>\n",
       "    <tr>\n",
       "      <th>32</th>\n",
       "      <td>work great</td>\n",
       "      <td>2.313019e+133</td>\n",
       "    </tr>\n",
       "    <tr>\n",
       "      <th>33</th>\n",
       "      <td>good night</td>\n",
       "      <td>1.596020e+128</td>\n",
       "    </tr>\n",
       "    <tr>\n",
       "      <th>34</th>\n",
       "      <td>ear plug</td>\n",
       "      <td>5.910845e+121</td>\n",
       "    </tr>\n",
       "    <tr>\n",
       "      <th>35</th>\n",
       "      <td>jet lag</td>\n",
       "      <td>1.146892e+87</td>\n",
       "    </tr>\n",
       "    <tr>\n",
       "      <th>36</th>\n",
       "      <td>doxylamine succinate</td>\n",
       "      <td>1.157488e+69</td>\n",
       "    </tr>\n",
       "    <tr>\n",
       "      <th>25</th>\n",
       "      <td>year old</td>\n",
       "      <td>2.807142e+63</td>\n",
       "    </tr>\n",
       "    <tr>\n",
       "      <th>20</th>\n",
       "      <td>side effect</td>\n",
       "      <td>1.883415e+62</td>\n",
       "    </tr>\n",
       "    <tr>\n",
       "      <th>37</th>\n",
       "      <td>mg sleep</td>\n",
       "      <td>3.214381e+61</td>\n",
       "    </tr>\n",
       "    <tr>\n",
       "      <th>38</th>\n",
       "      <td>next day</td>\n",
       "      <td>4.774278e+60</td>\n",
       "    </tr>\n",
       "    <tr>\n",
       "      <th>39</th>\n",
       "      <td>go sleep</td>\n",
       "      <td>8.225597e+58</td>\n",
       "    </tr>\n",
       "    <tr>\n",
       "      <th>40</th>\n",
       "      <td>time release</td>\n",
       "      <td>5.060111e+58</td>\n",
       "    </tr>\n",
       "    <tr>\n",
       "      <th>41</th>\n",
       "      <td>also sleep</td>\n",
       "      <td>3.014924e+58</td>\n",
       "    </tr>\n",
       "    <tr>\n",
       "      <th>42</th>\n",
       "      <td>eye sleep</td>\n",
       "      <td>2.554948e+58</td>\n",
       "    </tr>\n",
       "    <tr>\n",
       "      <th>43</th>\n",
       "      <td>much better</td>\n",
       "      <td>2.036825e+58</td>\n",
       "    </tr>\n",
       "  </tbody>\n",
       "</table>\n",
       "</div>"
      ],
      "text/plain": [
       "                  bigram  likelihood_pos\n",
       "18            sleep mask             inf\n",
       "2            fall asleep   3.246981e+215\n",
       "30               doe not   7.644850e+160\n",
       "24           dream water   1.111200e+159\n",
       "17             work well   4.158263e+150\n",
       "31         great product   1.323021e+150\n",
       "32            work great   2.313019e+133\n",
       "33            good night   1.596020e+128\n",
       "34              ear plug   5.910845e+121\n",
       "35               jet lag    1.146892e+87\n",
       "36  doxylamine succinate    1.157488e+69\n",
       "25              year old    2.807142e+63\n",
       "20           side effect    1.883415e+62\n",
       "37              mg sleep    3.214381e+61\n",
       "38              next day    4.774278e+60\n",
       "39              go sleep    8.225597e+58\n",
       "40          time release    5.060111e+58\n",
       "41            also sleep    3.014924e+58\n",
       "42             eye sleep    2.554948e+58\n",
       "43           much better    2.036825e+58"
      ]
     },
     "execution_count": 271,
     "metadata": {},
     "output_type": "execute_result"
    }
   ],
   "source": [
    "positive_bigrams.sort_values('likelihood_pos', ascending=False).iloc[:30]"
   ]
  },
  {
   "cell_type": "code",
   "execution_count": 274,
   "metadata": {},
   "outputs": [],
   "source": [
    "neg_opinions_by_product=df_opinion[(df_opinion['label']==-1) & (df_opinion['text'].apply(lambda s: any([bn in s for bn in negative_bigrams['bigram'].values])))].groupby('asin').agg({'sentences': '...\\n'.join})"
   ]
  },
  {
   "cell_type": "code",
   "execution_count": 275,
   "metadata": {},
   "outputs": [],
   "source": [
    "pos_opinions_by_product=df_opinion[(df_opinion['label']==1) & (df_opinion['text'].apply(lambda s: any([bn in s for bn in positive_bigrams['bigram'].values])))].groupby('asin').agg({'sentences': '...\\n'.join})"
   ]
  },
  {
   "cell_type": "code",
   "execution_count": 276,
   "metadata": {},
   "outputs": [],
   "source": [
    "from nltk.tokenize import sent_tokenize, word_tokenize\n",
    "import numpy as np\n",
    "\"\"\"a function to get a representative sentence for each highly occured phrases\"\"\"\n",
    "def Representative_sentence(bigram_list, text):\n",
    "    punctuations=[',', \":\", \".\", \"?\", \"!\"]\n",
    "    \n",
    "    '''find the index of punctuations'''\n",
    "    punct_indice=np.array([i for i in range(len(text)) if text[i] in punctuations])\n",
    "    \n",
    "    '''remove the punctuations before word tokenize'''\n",
    "    words=word_tokenize(text)\n",
    "    print (words)\n",
    "    punct_indice=np.array([i for i in range(len(words)) if words[i] in punctuations])\n",
    "    print (punct_indice)\n",
    "    bigrams=[' '.join([words[j], words[j+1]]) for j in range(len(words)-1)]\n",
    "    extracted_sents=list()\n",
    "    for bigram in bigram_list:\n",
    "        if bigram in bigrams:\n",
    "            index=bigrams.index(bigram)\n",
    "            \"\"\"if there is a punctuation, select the part of sentence that contains the phrase between two punctuations\"\"\"\n",
    "            if len(punct_indice)>=1:\n",
    "                # when there is a punctuation before and another after the phrase\n",
    "                if index>min(punct_indice) and index<max(punct_indice):\n",
    "                    start=punct_indice[punct_indice<index][-1]+1\n",
    "                    end=punct_indice[punct_indice>index][0]\n",
    "                    extracted_sent=' '.join(words[max(0, start):min(end, len(words))])\n",
    "                # when there are punctuations after the phrase\n",
    "                elif index<min(punct_indice):\n",
    "                    extracted_sent=' '.join(words[max(0, index-5):min(punct_indice)])\n",
    "                # when there are punctuations before the phrase\n",
    "                elif index>max(punct_indice):\n",
    "                    extracted_sent=' '.join(words[max(punct_indice):min(index+5, len(words))])\n",
    "            else:\n",
    "                # when there is no punctuation, return the whole sentence\n",
    "                extracted_sent=' '.join(words[max(0, index-5):min(index+5, len(words))])\n",
    "        else:\n",
    "            extracted_sent=''\n",
    "        extracted_sents.append(extracted_sent)\n",
    "        extracted_sents=list(set(extracted_sents))\n",
    "    return ('...\\n'.join(extracted_sents))"
   ]
  },
  {
   "cell_type": "markdown",
   "metadata": {},
   "source": [
    "### Let's look at two example products for which the representative sentences that have been extracted"
   ]
  },
  {
   "cell_type": "code",
   "execution_count": 286,
   "metadata": {},
   "outputs": [
    {
     "name": "stdout",
     "output_type": "stream",
     "text": [
      "take product \"Dream Zone- Earth Therapeutics Sleep Mask, 1ct\" for example: \n",
      "\n",
      "\n",
      "negtive comments: \n",
      "\n",
      " Strap not comfortable...\n",
      "Good morning Amazon Customers,This product in no way made me sleepy, not to say that it won't work for you....\n",
      "I hate to say this product did not work for me....\n",
      "I'm not sure if it did or did not; I used for about 2-3 months then went back off....\n",
      "That's okay on an rare basis, but would not work nightly.\n",
      "--------------------------------------------\n",
      "\n",
      "positive comments: \n",
      "\n",
      " My son doesn't wake up at 5:30 a.m. anymore! Yea!...\n",
      "works well...\n",
      "When I take two tablets, they seem to work well.  I'm able to get to sleep within 1/2 hour, and stay asleep for at least 4; many times, longer....\n",
      "Since having my eyes mangled by an incompetent Lasik surgeon, I have tried every eye cover and sleep mask on the market.\n"
     ]
    }
   ],
   "source": [
    "idx=23\n",
    "\n",
    "product_id=neg_opinions_by_product.index[idx]\n",
    "product_name=list(df[df['asin']==product_id]['title'])[0]\n",
    "\n",
    "print (\"take product \\\"{}\\\" for example: \\n\\n\".format(product_name))\n",
    "\n",
    "print (\"negtive comments: \\n\\n\", neg_opinions_by_product.iloc[idx]['sentences'])\n",
    "print (\"--------------------------------------------\\n\")\n",
    "print (\"positive comments: \\n\\n\", pos_opinions_by_product.iloc[idx]['sentences'])"
   ]
  },
  {
   "cell_type": "code",
   "execution_count": 279,
   "metadata": {},
   "outputs": [
    {
     "name": "stdout",
     "output_type": "stream",
     "text": [
      "take product \"Biotab Nutraceuticals Alteril Sleep Aid with L-Tryptophan, Tablets 30 ea\" for example: \n",
      "\n",
      "\n",
      "negtive comments: \n",
      "\n",
      " I've taken double and triple the recommended dosage and I don't feel a thing, not even a little sleepy. Don't waste your money on this one.\n",
      "--------------------------------------------\n",
      "\n",
      "positive comments: \n",
      "\n",
      " Works Well for Our 8 Year Old\n"
     ]
    }
   ],
   "source": [
    "idx=55\n",
    "\n",
    "product_id=neg_opinions_by_product.index[idx]\n",
    "product_name=list(df[df['asin']==product_id]['title'])[0]\n",
    "\n",
    "print (\"take product \\\"{}\\\" for example: \\n\\n\".format(product_name))\n",
    "\n",
    "print (\"negtive comments: \\n\\n\", neg_opinions_by_product.iloc[idx]['sentences'])\n",
    "print (\"--------------------------------------------\\n\")\n",
    "print (\"positive comments: \\n\\n\", pos_opinions_by_product.iloc[idx]['sentences'])"
   ]
  },
  {
   "cell_type": "code",
   "execution_count": 288,
   "metadata": {},
   "outputs": [
    {
     "data": {
      "text/plain": [
       "'my son doe not wake up at : a. m. anymore! yea! . .'"
      ]
     },
     "execution_count": 288,
     "metadata": {},
     "output_type": "execute_result"
    }
   ],
   "source": [
    "text=\"My son doesn't wake up at 5:30 a.m. anymore! Yea!... \"\n",
    "Preprocessor_with_punc_stop(text)"
   ]
  }
 ],
 "metadata": {
  "kernelspec": {
   "display_name": "Python 3",
   "language": "python",
   "name": "python3"
  },
  "language_info": {
   "codemirror_mode": {
    "name": "ipython",
    "version": 3
   },
   "file_extension": ".py",
   "mimetype": "text/x-python",
   "name": "python",
   "nbconvert_exporter": "python",
   "pygments_lexer": "ipython3",
   "version": "3.6.3"
  }
 },
 "nbformat": 4,
 "nbformat_minor": 2
}
