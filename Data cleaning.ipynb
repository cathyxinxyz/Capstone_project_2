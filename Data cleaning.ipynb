{
 "cells": [
  {
   "cell_type": "code",
   "execution_count": 303,
   "metadata": {},
   "outputs": [],
   "source": [
    "import pandas as pd\n",
    "import numpy as np"
   ]
  },
  {
   "cell_type": "markdown",
   "metadata": {},
   "source": [
    "First I use the two functions given on the website of Amazon review data to parse the json data"
   ]
  },
  {
   "cell_type": "code",
   "execution_count": 304,
   "metadata": {},
   "outputs": [],
   "source": [
    "def parse(path):\n",
    "    readin = open(path, 'rb')\n",
    "    for l in readin:\n",
    "        yield eval(l)\n",
    "\n",
    "def getDF(path):\n",
    "    i = 0\n",
    "    df = {}\n",
    "    for d in parse(path):\n",
    "        df[i] = d\n",
    "        i += 1\n",
    "    return pd.DataFrame.from_dict(df, orient='index')"
   ]
  },
  {
   "cell_type": "code",
   "execution_count": 305,
   "metadata": {},
   "outputs": [],
   "source": [
    "df_meta = getDF('C:/Users/cathy/OneDrive/Documents/spring_board/meta_Health_and_Personal_Care.json')"
   ]
  },
  {
   "cell_type": "markdown",
   "metadata": {},
   "source": [
    "Let's take a look at the data"
   ]
  },
  {
   "cell_type": "code",
   "execution_count": 306,
   "metadata": {},
   "outputs": [
    {
     "data": {
      "text/html": [
       "<div>\n",
       "<style>\n",
       "    .dataframe thead tr:only-child th {\n",
       "        text-align: right;\n",
       "    }\n",
       "\n",
       "    .dataframe thead th {\n",
       "        text-align: left;\n",
       "    }\n",
       "\n",
       "    .dataframe tbody tr th {\n",
       "        vertical-align: top;\n",
       "    }\n",
       "</style>\n",
       "<table border=\"1\" class=\"dataframe\">\n",
       "  <thead>\n",
       "    <tr style=\"text-align: right;\">\n",
       "      <th></th>\n",
       "      <th>asin</th>\n",
       "      <th>description</th>\n",
       "      <th>title</th>\n",
       "      <th>imUrl</th>\n",
       "      <th>related</th>\n",
       "      <th>salesRank</th>\n",
       "      <th>categories</th>\n",
       "      <th>price</th>\n",
       "      <th>brand</th>\n",
       "    </tr>\n",
       "  </thead>\n",
       "  <tbody>\n",
       "    <tr>\n",
       "      <th>0</th>\n",
       "      <td>0077614992</td>\n",
       "      <td>This is an example product description.</td>\n",
       "      <td>Principles of Mgmt + Oper-CSUF Custom C</td>\n",
       "      <td>http://ecx.images-amazon.com/images/I/51G%2BRq...</td>\n",
       "      <td>{'also_bought': ['0471730726', '0132834871', '...</td>\n",
       "      <td>{'Health &amp; Personal Care': 168429}</td>\n",
       "      <td>[[Health &amp; Personal Care]]</td>\n",
       "      <td>NaN</td>\n",
       "      <td>NaN</td>\n",
       "    </tr>\n",
       "    <tr>\n",
       "      <th>1</th>\n",
       "      <td>0615208479</td>\n",
       "      <td>By now we all know the benefits of exercise fo...</td>\n",
       "      <td>Brain Fitness Exercises Software</td>\n",
       "      <td>http://ecx.images-amazon.com/images/I/41kbZB04...</td>\n",
       "      <td>NaN</td>\n",
       "      <td>{'Health &amp; Personal Care': 1346973}</td>\n",
       "      <td>[[Health &amp; Personal Care, Personal Care]]</td>\n",
       "      <td>NaN</td>\n",
       "      <td>NaN</td>\n",
       "    </tr>\n",
       "    <tr>\n",
       "      <th>2</th>\n",
       "      <td>0615269990</td>\n",
       "      <td>What's wrong with your patient?Do all the symp...</td>\n",
       "      <td>Occam's Razor</td>\n",
       "      <td>http://ecx.images-amazon.com/images/I/51fH-ABe...</td>\n",
       "      <td>{'also_bought': ['1935660152', '0071743979', '...</td>\n",
       "      <td>{'Toys &amp; Games': 110575}</td>\n",
       "      <td>[[Health &amp; Personal Care, Personal Care, Shavi...</td>\n",
       "      <td>34.99</td>\n",
       "      <td>NaN</td>\n",
       "    </tr>\n",
       "    <tr>\n",
       "      <th>3</th>\n",
       "      <td>0615315860</td>\n",
       "      <td>NaN</td>\n",
       "      <td>101 BlenderBottle Recipes Quick and Easy</td>\n",
       "      <td>http://ecx.images-amazon.com/images/I/21zOQu2Q...</td>\n",
       "      <td>{'also_bought': ['B006VT9RBM', 'B0010JLMO8', '...</td>\n",
       "      <td>{'Health &amp; Personal Care': 254068}</td>\n",
       "      <td>[[Health &amp; Personal Care]]</td>\n",
       "      <td>NaN</td>\n",
       "      <td>NaN</td>\n",
       "    </tr>\n",
       "    <tr>\n",
       "      <th>4</th>\n",
       "      <td>0615406394</td>\n",
       "      <td>This is an example product description.</td>\n",
       "      <td>Aphrodite Reborn - Women's Stories of Hope, Co...</td>\n",
       "      <td>http://ecx.images-amazon.com/images/I/51rJLgsi...</td>\n",
       "      <td>{'also_bought': ['0966035232', '1421407205']}</td>\n",
       "      <td>{'Health &amp; Personal Care': 377936}</td>\n",
       "      <td>[[Health &amp; Personal Care]]</td>\n",
       "      <td>NaN</td>\n",
       "      <td>NaN</td>\n",
       "    </tr>\n",
       "  </tbody>\n",
       "</table>\n",
       "</div>"
      ],
      "text/plain": [
       "         asin                                        description  \\\n",
       "0  0077614992            This is an example product description.   \n",
       "1  0615208479  By now we all know the benefits of exercise fo...   \n",
       "2  0615269990  What's wrong with your patient?Do all the symp...   \n",
       "3  0615315860                                                NaN   \n",
       "4  0615406394            This is an example product description.   \n",
       "\n",
       "                                               title  \\\n",
       "0            Principles of Mgmt + Oper-CSUF Custom C   \n",
       "1                   Brain Fitness Exercises Software   \n",
       "2                                      Occam's Razor   \n",
       "3           101 BlenderBottle Recipes Quick and Easy   \n",
       "4  Aphrodite Reborn - Women's Stories of Hope, Co...   \n",
       "\n",
       "                                               imUrl  \\\n",
       "0  http://ecx.images-amazon.com/images/I/51G%2BRq...   \n",
       "1  http://ecx.images-amazon.com/images/I/41kbZB04...   \n",
       "2  http://ecx.images-amazon.com/images/I/51fH-ABe...   \n",
       "3  http://ecx.images-amazon.com/images/I/21zOQu2Q...   \n",
       "4  http://ecx.images-amazon.com/images/I/51rJLgsi...   \n",
       "\n",
       "                                             related  \\\n",
       "0  {'also_bought': ['0471730726', '0132834871', '...   \n",
       "1                                                NaN   \n",
       "2  {'also_bought': ['1935660152', '0071743979', '...   \n",
       "3  {'also_bought': ['B006VT9RBM', 'B0010JLMO8', '...   \n",
       "4      {'also_bought': ['0966035232', '1421407205']}   \n",
       "\n",
       "                             salesRank  \\\n",
       "0   {'Health & Personal Care': 168429}   \n",
       "1  {'Health & Personal Care': 1346973}   \n",
       "2             {'Toys & Games': 110575}   \n",
       "3   {'Health & Personal Care': 254068}   \n",
       "4   {'Health & Personal Care': 377936}   \n",
       "\n",
       "                                          categories  price brand  \n",
       "0                         [[Health & Personal Care]]    NaN   NaN  \n",
       "1          [[Health & Personal Care, Personal Care]]    NaN   NaN  \n",
       "2  [[Health & Personal Care, Personal Care, Shavi...  34.99   NaN  \n",
       "3                         [[Health & Personal Care]]    NaN   NaN  \n",
       "4                         [[Health & Personal Care]]    NaN   NaN  "
      ]
     },
     "execution_count": 306,
     "metadata": {},
     "output_type": "execute_result"
    }
   ],
   "source": [
    "df_meta.head(5)"
   ]
  },
  {
   "cell_type": "code",
   "execution_count": 325,
   "metadata": {},
   "outputs": [
    {
     "data": {
      "text/plain": [
       "['Health & Personal Care',\n",
       " 'Stationery & Party Supplies',\n",
       " 'Stationery',\n",
       " 'Fine Writing Instruments']"
      ]
     },
     "execution_count": 325,
     "metadata": {},
     "output_type": "execute_result"
    }
   ],
   "source": [
    "df_meta.iloc[10]['categories']"
   ]
  },
  {
   "cell_type": "markdown",
   "metadata": {},
   "source": [
    "The meta dataset provides information of each product in the Health care and personal care department on Amazon. Each is for a specific product and each column provides one aspect of the products:\n",
    "    - 'asin' is the product unique ID. \n",
    "    - \"description\" gives a brief discription of the product: its function, ingredients etc. \n",
    "    - 'related\" lists what other products that users who bought this product also bought. \n",
    "    - 'salesRank' gives the rank of the sale amount of product. \n",
    "    - \"categories\" shows the category that a product is assigned. It can be multiple values.\n",
    "    - 'price' and 'brand', are self-explaintory as shown by their name. \n",
    "   \n"
   ]
  },
  {
   "cell_type": "markdown",
   "metadata": {},
   "source": [
    "Let's see the how many products in this department. "
   ]
  },
  {
   "cell_type": "code",
   "execution_count": 307,
   "metadata": {},
   "outputs": [
    {
     "name": "stdout",
     "output_type": "stream",
     "text": [
      "263032\n"
     ]
    }
   ],
   "source": [
    "print (df_meta.shape[0])"
   ]
  },
  {
   "cell_type": "markdown",
   "metadata": {},
   "source": [
    "There are more than 260000 products! How about the number of category? "
   ]
  },
  {
   "cell_type": "code",
   "execution_count": 308,
   "metadata": {
    "scrolled": true
   },
   "outputs": [
    {
     "name": "stdout",
     "output_type": "stream",
     "text": [
      "0                            [[Health & Personal Care]]\n",
      "1             [[Health & Personal Care, Personal Care]]\n",
      "2     [[Health & Personal Care, Personal Care, Shavi...\n",
      "3                            [[Health & Personal Care]]\n",
      "4                            [[Health & Personal Care]]\n",
      "5                            [[Health & Personal Care]]\n",
      "6     [[Health & Personal Care, Personal Care, Eye C...\n",
      "7     [[Health & Personal Care, Medical Supplies & E...\n",
      "8     [[Health & Personal Care, Medical Supplies & E...\n",
      "9     [[Health & Personal Care, Stationery & Party S...\n",
      "10    [[Health & Personal Care, Stationery & Party S...\n",
      "11    [[Health & Personal Care, Stationery & Party S...\n",
      "12    [[Health & Personal Care, Stationery & Party S...\n",
      "13    [[Health & Personal Care, Stationery & Party S...\n",
      "14                           [[Health & Personal Care]]\n",
      "15    [[Health & Personal Care, Stationery & Party S...\n",
      "16    [[Health & Personal Care, Stationery & Party S...\n",
      "17    [[Health & Personal Care, Stationery & Party S...\n",
      "18    [[Health & Personal Care, Vitamins & Dietary S...\n",
      "19                           [[Health & Personal Care]]\n",
      "Name: categories, dtype: object\n"
     ]
    }
   ],
   "source": [
    "print (df_meta.categories[:20])"
   ]
  },
  {
   "cell_type": "markdown",
   "metadata": {},
   "source": [
    "It shows that the categories column is in the form of list of lists. I then further check the actual structure:"
   ]
  },
  {
   "cell_type": "code",
   "execution_count": 315,
   "metadata": {},
   "outputs": [
    {
     "data": {
      "text/plain": [
       "1     261235\n",
       "2       1017\n",
       "3        402\n",
       "4        217\n",
       "5        107\n",
       "6         35\n",
       "7         12\n",
       "8          4\n",
       "11         1\n",
       "10         1\n",
       "9          1\n",
       "Name: categories, dtype: int64"
      ]
     },
     "execution_count": 315,
     "metadata": {},
     "output_type": "execute_result"
    }
   ],
   "source": [
    "df_meta[\"categories\"].apply(len).value_counts()"
   ]
  },
  {
   "cell_type": "markdown",
   "metadata": {},
   "source": [
    "It shows that the list of categories can be of length 1 or more. To make this structure more simple and easier to analyze, I flatten the list of lists to be a list of all categories that a product belongs to. \n",
    "\n",
    "For example: [['health care'], ['home', 'furniture']] --> ['health care', 'home', 'furniture'] "
   ]
  },
  {
   "cell_type": "code",
   "execution_count": 316,
   "metadata": {},
   "outputs": [],
   "source": [
    "# flatten a list of lists: extract all elements and reduce the dimention to one\n",
    "def Flatten_lists(ll):\n",
    "    mylist=ll[:]\n",
    "    while any([type(l) is list for l in mylist]):\n",
    "        flattened=list()\n",
    "        for e in mylist:\n",
    "            if type(e) is list:\n",
    "                flattened.extend(e)\n",
    "            else:\n",
    "                flattened.append(e)\n",
    "        mylist=flattened\n",
    "    return (flattened)"
   ]
  },
  {
   "cell_type": "markdown",
   "metadata": {},
   "source": [
    "Then I transform the 'categories' column into the form of one dimention list"
   ]
  },
  {
   "cell_type": "code",
   "execution_count": 317,
   "metadata": {},
   "outputs": [],
   "source": [
    "df_meta['categories']=df_meta['categories'].apply(Flatten_lists)"
   ]
  },
  {
   "cell_type": "markdown",
   "metadata": {},
   "source": [
    "Now take a look at the updated categories column (first 10 rows)"
   ]
  },
  {
   "cell_type": "code",
   "execution_count": 318,
   "metadata": {},
   "outputs": [
    {
     "data": {
      "text/plain": [
       "0                             [Health & Personal Care]\n",
       "1              [Health & Personal Care, Personal Care]\n",
       "2    [Health & Personal Care, Personal Care, Shavin...\n",
       "3                             [Health & Personal Care]\n",
       "4                             [Health & Personal Care]\n",
       "5                             [Health & Personal Care]\n",
       "6    [Health & Personal Care, Personal Care, Eye Ca...\n",
       "7    [Health & Personal Care, Medical Supplies & Eq...\n",
       "8    [Health & Personal Care, Medical Supplies & Eq...\n",
       "9    [Health & Personal Care, Stationery & Party Su...\n",
       "Name: categories, dtype: object"
      ]
     },
     "execution_count": 318,
     "metadata": {},
     "output_type": "execute_result"
    }
   ],
   "source": [
    "df_meta['categories'][:10]"
   ]
  },
  {
   "cell_type": "markdown",
   "metadata": {},
   "source": [
    "All categories that a product belongs to are now stored in a single list"
   ]
  },
  {
   "cell_type": "markdown",
   "metadata": {},
   "source": [
    "My next question is that how many unique categories are there? and how many unique combination of categories are there? "
   ]
  },
  {
   "cell_type": "code",
   "execution_count": 227,
   "metadata": {},
   "outputs": [
    {
     "name": "stdout",
     "output_type": "stream",
     "text": [
      "there are in total 1490 categories\n",
      "there are in total 1805 combinations of categories\n"
     ]
    }
   ],
   "source": [
    "allcategories=list(Flatten_lists((df_meta['categories'].tolist())))\n",
    "print (\"there are in total {} categories\".format(len(set(allcategories))))\n",
    "\n",
    "def List_sort_tuple(l):\n",
    "    l.sort()\n",
    "    return tuple(l)\n",
    "\n",
    "print (\"there are in total {} combinations of categories\".format(len(set(df_meta['categories'].apply(lambda l:List_sort_tuple(l))))))"
   ]
  },
  {
   "cell_type": "markdown",
   "metadata": {},
   "source": [
    "There are over 1400 subcategories and over 1800 combinations of them! If one wants to do sentiment analysis on products defined by these combinations, that would be a lot of work, let alone that some of the combination may only have a small number of products. \n",
    "\n",
    "Therefore, in the following steps, I try to summarize these products with distinct but fewer combinations, while making sure that products categorized under each combination have similar functions. For example, one of the product is under the combination of categories: 'Gift Wrap Paper', 'Gift Wrapping Supplies', 'Health & Personal Care' and 'Stationery & Party Supplies'. However, the combination of 'Health & Personal Care' and 'Stationery & Party Supplies' or 'Health & Personal Care' and 'Gift wrap paper' is already adequate to summarize this product, and one can be relatively confident that some other products under this same category share similar functions or similar features. \n",
    "\n",
    "The way I reduce the number of combined categories is to identify the most frequent ones and try to categorize each product using the combinations of two of these most frequent ones. Again, using the product with combined category: Gift Wrap Paper', 'Gift Wrapping Supplies', 'Health & Personal Care' and 'Stationery & Party Supplies' as an example: if 'Health & Personal Care' and 'Stationery & Party Supplies' are among the top frequent categories, I will choose the combination of these two to summarize this product. \n",
    "\n",
    "Also, by doing this I assume that combinations of two categories are informative enough to summarize a product. "
   ]
  },
  {
   "cell_type": "code",
   "execution_count": 312,
   "metadata": {},
   "outputs": [],
   "source": [
    "from collections import Counter\n",
    "category_count=dict(Counter(allcategories))\n",
    "\n",
    "def Top_frequent_category(x, category_count):\n",
    "    key_values=list()\n",
    "    for k in set(x):\n",
    "        key_values.append((k,category_count[k]))\n",
    "    \n",
    "    key_values.sort(key=lambda tup: tup[1], reverse=True)\n",
    "    exclude=['Health & Personal Care', 'Health Care', 'Personal Care']\n",
    "    if len(key_values)>=2:\n",
    "        subcategories=[tup[0] for tup in key_values if tup[0] not in exclude]\n",
    "        if subcategories !=[]:\n",
    "            category=subcategories[0]\n",
    "        else:\n",
    "            category=key_values[0][0]\n",
    "    else:\n",
    "        category=x[0]\n",
    "    return (category)"
   ]
  },
  {
   "cell_type": "code",
   "execution_count": 319,
   "metadata": {},
   "outputs": [],
   "source": [
    "df_meta['main_category']=df_meta['categories'].apply(lambda L:Top_frequent_category(L, category_count))"
   ]
  },
  {
   "cell_type": "code",
   "execution_count": 327,
   "metadata": {},
   "outputs": [
    {
     "name": "stdout",
     "output_type": "stream",
     "text": [
      "After the transformation, there are 41 categories\n"
     ]
    },
    {
     "data": {
      "image/png": "[encoded data removed]",
      "text/plain": [
       "<matplotlib.figure.Figure at 0x1486adaeef0>"
      ]
     },
     "metadata": {},
     "output_type": "display_data"
    }
   ],
   "source": [
    "import seaborn as sns\n",
    "import matplotlib.pyplot as plt\n",
    "\n",
    "print ('After the transformation, there are {} categories'\n",
    "          .format(len(df_meta['main_category'].value_counts().index)))\n",
    "plt.figure(figsize=(10, 10))\n",
    "sns.countplot(y='main_category', \n",
    "              data=df_meta,\n",
    "              order = df_meta['main_category'].value_counts().index)\n",
    "plt.show()"
   ]
  },
  {
   "cell_type": "markdown",
   "metadata": {},
   "source": [
    "It shows that after downsizing and tranforming these categories, the products are now summarized into 41 categories, which is a huge reduction from its original 1805. The biggest category is 'Vitamines and Dietary Supplements', while the smallest category is 'Air Fresheners', the number of which is too small that it is hardly seen on the figure."
   ]
  },
  {
   "cell_type": "markdown",
   "metadata": {},
   "source": [
    "In this exercise I will first focus on one category: \"Sleep & Snoring\". I choose it because there is intermediate number of products in this category, which makes it possible that the analysis used for this category would fit the larger categories and smaller ones. "
   ]
  },
  {
   "cell_type": "code",
   "execution_count": 321,
   "metadata": {},
   "outputs": [],
   "source": [
    "df_sleep=df_meta[df_meta['main_category']=='Sleep & Snoring']"
   ]
  },
  {
   "cell_type": "markdown",
   "metadata": {},
   "source": [
    "Then I download the review data, which I will later combine with the product metadata."
   ]
  },
  {
   "cell_type": "code",
   "execution_count": 215,
   "metadata": {},
   "outputs": [],
   "source": [
    "df_review = getDF('C:/Users/cathy/OneDrive/Documents/spring_board/Health_and_Personal_Care_5.json')"
   ]
  },
  {
   "cell_type": "markdown",
   "metadata": {},
   "source": [
    "Let's take a look at the first few rows of review data"
   ]
  },
  {
   "cell_type": "code",
   "execution_count": 216,
   "metadata": {},
   "outputs": [
    {
     "data": {
      "text/html": [
       "<div>\n",
       "<style>\n",
       "    .dataframe thead tr:only-child th {\n",
       "        text-align: right;\n",
       "    }\n",
       "\n",
       "    .dataframe thead th {\n",
       "        text-align: left;\n",
       "    }\n",
       "\n",
       "    .dataframe tbody tr th {\n",
       "        vertical-align: top;\n",
       "    }\n",
       "</style>\n",
       "<table border=\"1\" class=\"dataframe\">\n",
       "  <thead>\n",
       "    <tr style=\"text-align: right;\">\n",
       "      <th></th>\n",
       "      <th>reviewerID</th>\n",
       "      <th>asin</th>\n",
       "      <th>reviewerName</th>\n",
       "      <th>helpful</th>\n",
       "      <th>reviewText</th>\n",
       "      <th>overall</th>\n",
       "      <th>summary</th>\n",
       "      <th>unixReviewTime</th>\n",
       "      <th>reviewTime</th>\n",
       "    </tr>\n",
       "  </thead>\n",
       "  <tbody>\n",
       "    <tr>\n",
       "      <th>0</th>\n",
       "      <td>ALC5GH8CAMAI7</td>\n",
       "      <td>159985130X</td>\n",
       "      <td>AnnN</td>\n",
       "      <td>[1, 1]</td>\n",
       "      <td>This is a great little gadget to have around. ...</td>\n",
       "      <td>5.0</td>\n",
       "      <td>Handy little gadget</td>\n",
       "      <td>1294185600</td>\n",
       "      <td>01 5, 2011</td>\n",
       "    </tr>\n",
       "    <tr>\n",
       "      <th>1</th>\n",
       "      <td>AHKSURW85PJUE</td>\n",
       "      <td>159985130X</td>\n",
       "      <td>AZ buyer \"AZ buyer\"</td>\n",
       "      <td>[1, 1]</td>\n",
       "      <td>I would recommend this for a travel magnifier ...</td>\n",
       "      <td>4.0</td>\n",
       "      <td>Small &amp; may need to encourage battery</td>\n",
       "      <td>1329523200</td>\n",
       "      <td>02 18, 2012</td>\n",
       "    </tr>\n",
       "    <tr>\n",
       "      <th>2</th>\n",
       "      <td>A38RMU1Y5TDP9</td>\n",
       "      <td>159985130X</td>\n",
       "      <td>Bob Tobias \"Robert Tobias\"</td>\n",
       "      <td>[75, 77]</td>\n",
       "      <td>What I liked was the quality of the lens and t...</td>\n",
       "      <td>4.0</td>\n",
       "      <td>Very good but not great</td>\n",
       "      <td>1275955200</td>\n",
       "      <td>06 8, 2010</td>\n",
       "    </tr>\n",
       "    <tr>\n",
       "      <th>3</th>\n",
       "      <td>A1XZUG7DFXXOS4</td>\n",
       "      <td>159985130X</td>\n",
       "      <td>Cat lover</td>\n",
       "      <td>[56, 60]</td>\n",
       "      <td>Love the Great point light pocket magnifier!  ...</td>\n",
       "      <td>4.0</td>\n",
       "      <td>great addition to your purse</td>\n",
       "      <td>1202428800</td>\n",
       "      <td>02 8, 2008</td>\n",
       "    </tr>\n",
       "    <tr>\n",
       "      <th>4</th>\n",
       "      <td>A1MS3M7M7AM13X</td>\n",
       "      <td>159985130X</td>\n",
       "      <td>Cricketoes</td>\n",
       "      <td>[1, 1]</td>\n",
       "      <td>This is very nice. You pull out on the magnifi...</td>\n",
       "      <td>5.0</td>\n",
       "      <td>Very nice and convenient.</td>\n",
       "      <td>1313452800</td>\n",
       "      <td>08 16, 2011</td>\n",
       "    </tr>\n",
       "  </tbody>\n",
       "</table>\n",
       "</div>"
      ],
      "text/plain": [
       "       reviewerID        asin                reviewerName   helpful  \\\n",
       "0   ALC5GH8CAMAI7  159985130X                        AnnN    [1, 1]   \n",
       "1   AHKSURW85PJUE  159985130X         AZ buyer \"AZ buyer\"    [1, 1]   \n",
       "2   A38RMU1Y5TDP9  159985130X  Bob Tobias \"Robert Tobias\"  [75, 77]   \n",
       "3  A1XZUG7DFXXOS4  159985130X                   Cat lover  [56, 60]   \n",
       "4  A1MS3M7M7AM13X  159985130X                  Cricketoes    [1, 1]   \n",
       "\n",
       "                                          reviewText  overall  \\\n",
       "0  This is a great little gadget to have around. ...      5.0   \n",
       "1  I would recommend this for a travel magnifier ...      4.0   \n",
       "2  What I liked was the quality of the lens and t...      4.0   \n",
       "3  Love the Great point light pocket magnifier!  ...      4.0   \n",
       "4  This is very nice. You pull out on the magnifi...      5.0   \n",
       "\n",
       "                                 summary  unixReviewTime   reviewTime  \n",
       "0                    Handy little gadget      1294185600   01 5, 2011  \n",
       "1  Small & may need to encourage battery      1329523200  02 18, 2012  \n",
       "2                Very good but not great      1275955200   06 8, 2010  \n",
       "3           great addition to your purse      1202428800   02 8, 2008  \n",
       "4              Very nice and convenient.      1313452800  08 16, 2011  "
      ]
     },
     "execution_count": 216,
     "metadata": {},
     "output_type": "execute_result"
    }
   ],
   "source": [
    "df_review.head()"
   ]
  },
  {
   "cell_type": "markdown",
   "metadata": {},
   "source": [
    "It shows that most columns are information relevant to the review: \n",
    "    - reviewerID: the reviewers' ID\n",
    "    - reviewerName: user name\n",
    "    - helpful: with the first element as the number of people who find the review helpful and the second as the number of people who find it not helpful\n",
    "    - reviewText: the review text\n",
    "    - overall: the rating\n",
    "    - summary: a sentence to summarize the review\n",
    "    - unixReviewTime: time the review was uploaded in unix time stamp\n",
    "    - review time: time the review was uploaded in regularly format \n",
    "\n",
    "Column 'asin' is the product ID that can link the reivew data to the product metadata."
   ]
  },
  {
   "cell_type": "markdown",
   "metadata": {},
   "source": [
    "I use this column to select the reviews for products under the category \"Sleep &  Snoring\""
   ]
  },
  {
   "cell_type": "code",
   "execution_count": 289,
   "metadata": {},
   "outputs": [],
   "source": [
    "df_review_sleep=df_review[df_review['asin'].isin(df_sleep['asin'])]"
   ]
  },
  {
   "cell_type": "code",
   "execution_count": 290,
   "metadata": {},
   "outputs": [
    {
     "data": {
      "text/html": [
       "<div>\n",
       "<style>\n",
       "    .dataframe thead tr:only-child th {\n",
       "        text-align: right;\n",
       "    }\n",
       "\n",
       "    .dataframe thead th {\n",
       "        text-align: left;\n",
       "    }\n",
       "\n",
       "    .dataframe tbody tr th {\n",
       "        vertical-align: top;\n",
       "    }\n",
       "</style>\n",
       "<table border=\"1\" class=\"dataframe\">\n",
       "  <thead>\n",
       "    <tr style=\"text-align: right;\">\n",
       "      <th></th>\n",
       "      <th>reviewerID</th>\n",
       "      <th>asin</th>\n",
       "      <th>reviewerName</th>\n",
       "      <th>helpful</th>\n",
       "      <th>reviewText</th>\n",
       "      <th>overall</th>\n",
       "      <th>summary</th>\n",
       "      <th>unixReviewTime</th>\n",
       "      <th>reviewTime</th>\n",
       "    </tr>\n",
       "  </thead>\n",
       "  <tbody>\n",
       "    <tr>\n",
       "      <th>2750</th>\n",
       "      <td>A3AUGQNG5EYQ1Y</td>\n",
       "      <td>B000053136</td>\n",
       "      <td>angela englund</td>\n",
       "      <td>[0, 0]</td>\n",
       "      <td>Ok... so I got this because a friend recommend...</td>\n",
       "      <td>1.0</td>\n",
       "      <td>Can't decide if I should dump the rest or just...</td>\n",
       "      <td>1384560000</td>\n",
       "      <td>11 16, 2013</td>\n",
       "    </tr>\n",
       "    <tr>\n",
       "      <th>2751</th>\n",
       "      <td>A2WI4GOCOOF3PK</td>\n",
       "      <td>B000053136</td>\n",
       "      <td>AppleGirl \"Canary\"</td>\n",
       "      <td>[0, 1]</td>\n",
       "      <td>Good product great taste and really works, arr...</td>\n",
       "      <td>5.0</td>\n",
       "      <td>Melatonin luquid</td>\n",
       "      <td>1317600000</td>\n",
       "      <td>10 3, 2011</td>\n",
       "    </tr>\n",
       "    <tr>\n",
       "      <th>2752</th>\n",
       "      <td>A3I6PVPLOWPPS2</td>\n",
       "      <td>B000053136</td>\n",
       "      <td>Bty</td>\n",
       "      <td>[1, 1]</td>\n",
       "      <td>this stuff is really helpful for a toddler who...</td>\n",
       "      <td>5.0</td>\n",
       "      <td>strong smell, mixes well into dark juice</td>\n",
       "      <td>1337558400</td>\n",
       "      <td>05 21, 2012</td>\n",
       "    </tr>\n",
       "    <tr>\n",
       "      <th>2753</th>\n",
       "      <td>A31TSQ6L9VS073</td>\n",
       "      <td>B000053136</td>\n",
       "      <td>cassieb</td>\n",
       "      <td>[0, 0]</td>\n",
       "      <td>We bought this for our kidos on the advice fro...</td>\n",
       "      <td>4.0</td>\n",
       "      <td>Works great</td>\n",
       "      <td>1384300800</td>\n",
       "      <td>11 13, 2013</td>\n",
       "    </tr>\n",
       "    <tr>\n",
       "      <th>2754</th>\n",
       "      <td>AF30W6VYOTF7H</td>\n",
       "      <td>B000053136</td>\n",
       "      <td>Catrine</td>\n",
       "      <td>[1, 1]</td>\n",
       "      <td>I have a 8 yr. old with \"Down Syndrome\". He is...</td>\n",
       "      <td>4.0</td>\n",
       "      <td>It really does help!</td>\n",
       "      <td>1395100800</td>\n",
       "      <td>03 18, 2014</td>\n",
       "    </tr>\n",
       "  </tbody>\n",
       "</table>\n",
       "</div>"
      ],
      "text/plain": [
       "          reviewerID        asin        reviewerName helpful  \\\n",
       "2750  A3AUGQNG5EYQ1Y  B000053136      angela englund  [0, 0]   \n",
       "2751  A2WI4GOCOOF3PK  B000053136  AppleGirl \"Canary\"  [0, 1]   \n",
       "2752  A3I6PVPLOWPPS2  B000053136                 Bty  [1, 1]   \n",
       "2753  A31TSQ6L9VS073  B000053136             cassieb  [0, 0]   \n",
       "2754   AF30W6VYOTF7H  B000053136             Catrine  [1, 1]   \n",
       "\n",
       "                                             reviewText  overall  \\\n",
       "2750  Ok... so I got this because a friend recommend...      1.0   \n",
       "2751  Good product great taste and really works, arr...      5.0   \n",
       "2752  this stuff is really helpful for a toddler who...      5.0   \n",
       "2753  We bought this for our kidos on the advice fro...      4.0   \n",
       "2754  I have a 8 yr. old with \"Down Syndrome\". He is...      4.0   \n",
       "\n",
       "                                                summary  unixReviewTime  \\\n",
       "2750  Can't decide if I should dump the rest or just...      1384560000   \n",
       "2751                                   Melatonin luquid      1317600000   \n",
       "2752           strong smell, mixes well into dark juice      1337558400   \n",
       "2753                                        Works great      1384300800   \n",
       "2754                               It really does help!      1395100800   \n",
       "\n",
       "       reviewTime  \n",
       "2750  11 16, 2013  \n",
       "2751   10 3, 2011  \n",
       "2752  05 21, 2012  \n",
       "2753  11 13, 2013  \n",
       "2754  03 18, 2014  "
      ]
     },
     "execution_count": 290,
     "metadata": {},
     "output_type": "execute_result"
    }
   ],
   "source": [
    "df_review_sleep.head(5)"
   ]
  },
  {
   "cell_type": "markdown",
   "metadata": {},
   "source": [
    "Then I combine the review data with the product meta data for Sleep & Snoring meds. While merging the two datasets, I drop the columns irrelevant to opinion mining task. "
   ]
  },
  {
   "cell_type": "code",
   "execution_count": 300,
   "metadata": {},
   "outputs": [],
   "source": [
    "df_review_meta_sleep=df_review_sleep.drop(['reviewerName', 'unixReviewTime', 'reviewTime'], axis=1).merge(df_sleep.drop(['imUrl', 'related', 'salesRank', 'categories', 'price', 'brand', 'main_category'], axis=1), \n",
    "                                                                                         left_on='asin', right_on='asin')"
   ]
  },
  {
   "cell_type": "code",
   "execution_count": 301,
   "metadata": {},
   "outputs": [
    {
     "data": {
      "text/html": [
       "<div>\n",
       "<style>\n",
       "    .dataframe thead tr:only-child th {\n",
       "        text-align: right;\n",
       "    }\n",
       "\n",
       "    .dataframe thead th {\n",
       "        text-align: left;\n",
       "    }\n",
       "\n",
       "    .dataframe tbody tr th {\n",
       "        vertical-align: top;\n",
       "    }\n",
       "</style>\n",
       "<table border=\"1\" class=\"dataframe\">\n",
       "  <thead>\n",
       "    <tr style=\"text-align: right;\">\n",
       "      <th></th>\n",
       "      <th>reviewerID</th>\n",
       "      <th>asin</th>\n",
       "      <th>helpful</th>\n",
       "      <th>reviewText</th>\n",
       "      <th>overall</th>\n",
       "      <th>summary</th>\n",
       "      <th>description</th>\n",
       "      <th>title</th>\n",
       "    </tr>\n",
       "  </thead>\n",
       "  <tbody>\n",
       "    <tr>\n",
       "      <th>0</th>\n",
       "      <td>A3AUGQNG5EYQ1Y</td>\n",
       "      <td>B000053136</td>\n",
       "      <td>[0, 0]</td>\n",
       "      <td>Ok... so I got this because a friend recommend...</td>\n",
       "      <td>1.0</td>\n",
       "      <td>Can't decide if I should dump the rest or just...</td>\n",
       "      <td>Helps Establish Normal Sleep Patterns.* Dietar...</td>\n",
       "      <td>Natrol Liquid Melatonin, 2 Fluid Ounce</td>\n",
       "    </tr>\n",
       "    <tr>\n",
       "      <th>1</th>\n",
       "      <td>A2WI4GOCOOF3PK</td>\n",
       "      <td>B000053136</td>\n",
       "      <td>[0, 1]</td>\n",
       "      <td>Good product great taste and really works, arr...</td>\n",
       "      <td>5.0</td>\n",
       "      <td>Melatonin luquid</td>\n",
       "      <td>Helps Establish Normal Sleep Patterns.* Dietar...</td>\n",
       "      <td>Natrol Liquid Melatonin, 2 Fluid Ounce</td>\n",
       "    </tr>\n",
       "    <tr>\n",
       "      <th>2</th>\n",
       "      <td>A3I6PVPLOWPPS2</td>\n",
       "      <td>B000053136</td>\n",
       "      <td>[1, 1]</td>\n",
       "      <td>this stuff is really helpful for a toddler who...</td>\n",
       "      <td>5.0</td>\n",
       "      <td>strong smell, mixes well into dark juice</td>\n",
       "      <td>Helps Establish Normal Sleep Patterns.* Dietar...</td>\n",
       "      <td>Natrol Liquid Melatonin, 2 Fluid Ounce</td>\n",
       "    </tr>\n",
       "    <tr>\n",
       "      <th>3</th>\n",
       "      <td>A31TSQ6L9VS073</td>\n",
       "      <td>B000053136</td>\n",
       "      <td>[0, 0]</td>\n",
       "      <td>We bought this for our kidos on the advice fro...</td>\n",
       "      <td>4.0</td>\n",
       "      <td>Works great</td>\n",
       "      <td>Helps Establish Normal Sleep Patterns.* Dietar...</td>\n",
       "      <td>Natrol Liquid Melatonin, 2 Fluid Ounce</td>\n",
       "    </tr>\n",
       "    <tr>\n",
       "      <th>4</th>\n",
       "      <td>AF30W6VYOTF7H</td>\n",
       "      <td>B000053136</td>\n",
       "      <td>[1, 1]</td>\n",
       "      <td>I have a 8 yr. old with \"Down Syndrome\". He is...</td>\n",
       "      <td>4.0</td>\n",
       "      <td>It really does help!</td>\n",
       "      <td>Helps Establish Normal Sleep Patterns.* Dietar...</td>\n",
       "      <td>Natrol Liquid Melatonin, 2 Fluid Ounce</td>\n",
       "    </tr>\n",
       "  </tbody>\n",
       "</table>\n",
       "</div>"
      ],
      "text/plain": [
       "       reviewerID        asin helpful  \\\n",
       "0  A3AUGQNG5EYQ1Y  B000053136  [0, 0]   \n",
       "1  A2WI4GOCOOF3PK  B000053136  [0, 1]   \n",
       "2  A3I6PVPLOWPPS2  B000053136  [1, 1]   \n",
       "3  A31TSQ6L9VS073  B000053136  [0, 0]   \n",
       "4   AF30W6VYOTF7H  B000053136  [1, 1]   \n",
       "\n",
       "                                          reviewText  overall  \\\n",
       "0  Ok... so I got this because a friend recommend...      1.0   \n",
       "1  Good product great taste and really works, arr...      5.0   \n",
       "2  this stuff is really helpful for a toddler who...      5.0   \n",
       "3  We bought this for our kidos on the advice fro...      4.0   \n",
       "4  I have a 8 yr. old with \"Down Syndrome\". He is...      4.0   \n",
       "\n",
       "                                             summary  \\\n",
       "0  Can't decide if I should dump the rest or just...   \n",
       "1                                   Melatonin luquid   \n",
       "2           strong smell, mixes well into dark juice   \n",
       "3                                        Works great   \n",
       "4                               It really does help!   \n",
       "\n",
       "                                         description  \\\n",
       "0  Helps Establish Normal Sleep Patterns.* Dietar...   \n",
       "1  Helps Establish Normal Sleep Patterns.* Dietar...   \n",
       "2  Helps Establish Normal Sleep Patterns.* Dietar...   \n",
       "3  Helps Establish Normal Sleep Patterns.* Dietar...   \n",
       "4  Helps Establish Normal Sleep Patterns.* Dietar...   \n",
       "\n",
       "                                    title  \n",
       "0  Natrol Liquid Melatonin, 2 Fluid Ounce  \n",
       "1  Natrol Liquid Melatonin, 2 Fluid Ounce  \n",
       "2  Natrol Liquid Melatonin, 2 Fluid Ounce  \n",
       "3  Natrol Liquid Melatonin, 2 Fluid Ounce  \n",
       "4  Natrol Liquid Melatonin, 2 Fluid Ounce  "
      ]
     },
     "execution_count": 301,
     "metadata": {},
     "output_type": "execute_result"
    }
   ],
   "source": [
    "df_review_meta_sleep.head(5)"
   ]
  },
  {
   "cell_type": "code",
   "execution_count": 302,
   "metadata": {},
   "outputs": [],
   "source": [
    "df_review_meta_sleep.to_csv('sleep_review.csv')"
   ]
  }
 ],
 "metadata": {
  "kernelspec": {
   "display_name": "Python 3",
   "language": "python",
   "name": "python3"
  },
  "language_info": {
   "codemirror_mode": {
    "name": "ipython",
    "version": 3
   },
   "file_extension": ".py",
   "mimetype": "text/x-python",
   "name": "python",
   "nbconvert_exporter": "python",
   "pygments_lexer": "ipython3",
   "version": "3.6.3"
  }
 },
 "nbformat": 4,
 "nbformat_minor": 2
}
